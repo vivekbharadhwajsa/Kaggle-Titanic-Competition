{
 "cells": [
  {
   "cell_type": "code",
   "execution_count": 1,
   "metadata": {},
   "outputs": [],
   "source": [
    "import pandas as pd\n",
    "import matplotlib\n",
    "import numpy as np\n",
    "import seaborn as sns"
   ]
  },
  {
   "cell_type": "code",
   "execution_count": 2,
   "metadata": {},
   "outputs": [],
   "source": [
    "train_csv = pd.read_csv(\"train.csv\")\n",
    "test_csv = pd.read_csv(\"test.csv\")"
   ]
  },
  {
   "cell_type": "code",
   "execution_count": 3,
   "metadata": {},
   "outputs": [
    {
     "data": {
      "text/html": [
       "<div>\n",
       "<style scoped>\n",
       "    .dataframe tbody tr th:only-of-type {\n",
       "        vertical-align: middle;\n",
       "    }\n",
       "\n",
       "    .dataframe tbody tr th {\n",
       "        vertical-align: top;\n",
       "    }\n",
       "\n",
       "    .dataframe thead th {\n",
       "        text-align: right;\n",
       "    }\n",
       "</style>\n",
       "<table border=\"1\" class=\"dataframe\">\n",
       "  <thead>\n",
       "    <tr style=\"text-align: right;\">\n",
       "      <th></th>\n",
       "      <th>PassengerId</th>\n",
       "      <th>Survived</th>\n",
       "      <th>Pclass</th>\n",
       "      <th>Name</th>\n",
       "      <th>Sex</th>\n",
       "      <th>Age</th>\n",
       "      <th>SibSp</th>\n",
       "      <th>Parch</th>\n",
       "      <th>Ticket</th>\n",
       "      <th>Fare</th>\n",
       "      <th>Cabin</th>\n",
       "      <th>Embarked</th>\n",
       "    </tr>\n",
       "  </thead>\n",
       "  <tbody>\n",
       "    <tr>\n",
       "      <th>0</th>\n",
       "      <td>1</td>\n",
       "      <td>0</td>\n",
       "      <td>3</td>\n",
       "      <td>Braund, Mr. Owen Harris</td>\n",
       "      <td>male</td>\n",
       "      <td>22.0</td>\n",
       "      <td>1</td>\n",
       "      <td>0</td>\n",
       "      <td>A/5 21171</td>\n",
       "      <td>7.2500</td>\n",
       "      <td>NaN</td>\n",
       "      <td>S</td>\n",
       "    </tr>\n",
       "    <tr>\n",
       "      <th>1</th>\n",
       "      <td>2</td>\n",
       "      <td>1</td>\n",
       "      <td>1</td>\n",
       "      <td>Cumings, Mrs. John Bradley (Florence Briggs Th...</td>\n",
       "      <td>female</td>\n",
       "      <td>38.0</td>\n",
       "      <td>1</td>\n",
       "      <td>0</td>\n",
       "      <td>PC 17599</td>\n",
       "      <td>71.2833</td>\n",
       "      <td>C85</td>\n",
       "      <td>C</td>\n",
       "    </tr>\n",
       "    <tr>\n",
       "      <th>2</th>\n",
       "      <td>3</td>\n",
       "      <td>1</td>\n",
       "      <td>3</td>\n",
       "      <td>Heikkinen, Miss. Laina</td>\n",
       "      <td>female</td>\n",
       "      <td>26.0</td>\n",
       "      <td>0</td>\n",
       "      <td>0</td>\n",
       "      <td>STON/O2. 3101282</td>\n",
       "      <td>7.9250</td>\n",
       "      <td>NaN</td>\n",
       "      <td>S</td>\n",
       "    </tr>\n",
       "    <tr>\n",
       "      <th>3</th>\n",
       "      <td>4</td>\n",
       "      <td>1</td>\n",
       "      <td>1</td>\n",
       "      <td>Futrelle, Mrs. Jacques Heath (Lily May Peel)</td>\n",
       "      <td>female</td>\n",
       "      <td>35.0</td>\n",
       "      <td>1</td>\n",
       "      <td>0</td>\n",
       "      <td>113803</td>\n",
       "      <td>53.1000</td>\n",
       "      <td>C123</td>\n",
       "      <td>S</td>\n",
       "    </tr>\n",
       "    <tr>\n",
       "      <th>4</th>\n",
       "      <td>5</td>\n",
       "      <td>0</td>\n",
       "      <td>3</td>\n",
       "      <td>Allen, Mr. William Henry</td>\n",
       "      <td>male</td>\n",
       "      <td>35.0</td>\n",
       "      <td>0</td>\n",
       "      <td>0</td>\n",
       "      <td>373450</td>\n",
       "      <td>8.0500</td>\n",
       "      <td>NaN</td>\n",
       "      <td>S</td>\n",
       "    </tr>\n",
       "  </tbody>\n",
       "</table>\n",
       "</div>"
      ],
      "text/plain": [
       "   PassengerId  Survived  Pclass  \\\n",
       "0            1         0       3   \n",
       "1            2         1       1   \n",
       "2            3         1       3   \n",
       "3            4         1       1   \n",
       "4            5         0       3   \n",
       "\n",
       "                                                Name     Sex   Age  SibSp  \\\n",
       "0                            Braund, Mr. Owen Harris    male  22.0      1   \n",
       "1  Cumings, Mrs. John Bradley (Florence Briggs Th...  female  38.0      1   \n",
       "2                             Heikkinen, Miss. Laina  female  26.0      0   \n",
       "3       Futrelle, Mrs. Jacques Heath (Lily May Peel)  female  35.0      1   \n",
       "4                           Allen, Mr. William Henry    male  35.0      0   \n",
       "\n",
       "   Parch            Ticket     Fare Cabin Embarked  \n",
       "0      0         A/5 21171   7.2500   NaN        S  \n",
       "1      0          PC 17599  71.2833   C85        C  \n",
       "2      0  STON/O2. 3101282   7.9250   NaN        S  \n",
       "3      0            113803  53.1000  C123        S  \n",
       "4      0            373450   8.0500   NaN        S  "
      ]
     },
     "execution_count": 3,
     "metadata": {},
     "output_type": "execute_result"
    }
   ],
   "source": [
    "train_csv.head()"
   ]
  },
  {
   "cell_type": "code",
   "execution_count": 4,
   "metadata": {},
   "outputs": [
    {
     "data": {
      "text/html": [
       "<div>\n",
       "<style scoped>\n",
       "    .dataframe tbody tr th:only-of-type {\n",
       "        vertical-align: middle;\n",
       "    }\n",
       "\n",
       "    .dataframe tbody tr th {\n",
       "        vertical-align: top;\n",
       "    }\n",
       "\n",
       "    .dataframe thead th {\n",
       "        text-align: right;\n",
       "    }\n",
       "</style>\n",
       "<table border=\"1\" class=\"dataframe\">\n",
       "  <thead>\n",
       "    <tr style=\"text-align: right;\">\n",
       "      <th></th>\n",
       "      <th>PassengerId</th>\n",
       "      <th>Pclass</th>\n",
       "      <th>Name</th>\n",
       "      <th>Sex</th>\n",
       "      <th>Age</th>\n",
       "      <th>SibSp</th>\n",
       "      <th>Parch</th>\n",
       "      <th>Ticket</th>\n",
       "      <th>Fare</th>\n",
       "      <th>Cabin</th>\n",
       "      <th>Embarked</th>\n",
       "    </tr>\n",
       "  </thead>\n",
       "  <tbody>\n",
       "    <tr>\n",
       "      <th>0</th>\n",
       "      <td>892</td>\n",
       "      <td>3</td>\n",
       "      <td>Kelly, Mr. James</td>\n",
       "      <td>male</td>\n",
       "      <td>34.5</td>\n",
       "      <td>0</td>\n",
       "      <td>0</td>\n",
       "      <td>330911</td>\n",
       "      <td>7.8292</td>\n",
       "      <td>NaN</td>\n",
       "      <td>Q</td>\n",
       "    </tr>\n",
       "    <tr>\n",
       "      <th>1</th>\n",
       "      <td>893</td>\n",
       "      <td>3</td>\n",
       "      <td>Wilkes, Mrs. James (Ellen Needs)</td>\n",
       "      <td>female</td>\n",
       "      <td>47.0</td>\n",
       "      <td>1</td>\n",
       "      <td>0</td>\n",
       "      <td>363272</td>\n",
       "      <td>7.0000</td>\n",
       "      <td>NaN</td>\n",
       "      <td>S</td>\n",
       "    </tr>\n",
       "    <tr>\n",
       "      <th>2</th>\n",
       "      <td>894</td>\n",
       "      <td>2</td>\n",
       "      <td>Myles, Mr. Thomas Francis</td>\n",
       "      <td>male</td>\n",
       "      <td>62.0</td>\n",
       "      <td>0</td>\n",
       "      <td>0</td>\n",
       "      <td>240276</td>\n",
       "      <td>9.6875</td>\n",
       "      <td>NaN</td>\n",
       "      <td>Q</td>\n",
       "    </tr>\n",
       "    <tr>\n",
       "      <th>3</th>\n",
       "      <td>895</td>\n",
       "      <td>3</td>\n",
       "      <td>Wirz, Mr. Albert</td>\n",
       "      <td>male</td>\n",
       "      <td>27.0</td>\n",
       "      <td>0</td>\n",
       "      <td>0</td>\n",
       "      <td>315154</td>\n",
       "      <td>8.6625</td>\n",
       "      <td>NaN</td>\n",
       "      <td>S</td>\n",
       "    </tr>\n",
       "    <tr>\n",
       "      <th>4</th>\n",
       "      <td>896</td>\n",
       "      <td>3</td>\n",
       "      <td>Hirvonen, Mrs. Alexander (Helga E Lindqvist)</td>\n",
       "      <td>female</td>\n",
       "      <td>22.0</td>\n",
       "      <td>1</td>\n",
       "      <td>1</td>\n",
       "      <td>3101298</td>\n",
       "      <td>12.2875</td>\n",
       "      <td>NaN</td>\n",
       "      <td>S</td>\n",
       "    </tr>\n",
       "  </tbody>\n",
       "</table>\n",
       "</div>"
      ],
      "text/plain": [
       "   PassengerId  Pclass                                          Name     Sex  \\\n",
       "0          892       3                              Kelly, Mr. James    male   \n",
       "1          893       3              Wilkes, Mrs. James (Ellen Needs)  female   \n",
       "2          894       2                     Myles, Mr. Thomas Francis    male   \n",
       "3          895       3                              Wirz, Mr. Albert    male   \n",
       "4          896       3  Hirvonen, Mrs. Alexander (Helga E Lindqvist)  female   \n",
       "\n",
       "    Age  SibSp  Parch   Ticket     Fare Cabin Embarked  \n",
       "0  34.5      0      0   330911   7.8292   NaN        Q  \n",
       "1  47.0      1      0   363272   7.0000   NaN        S  \n",
       "2  62.0      0      0   240276   9.6875   NaN        Q  \n",
       "3  27.0      0      0   315154   8.6625   NaN        S  \n",
       "4  22.0      1      1  3101298  12.2875   NaN        S  "
      ]
     },
     "execution_count": 4,
     "metadata": {},
     "output_type": "execute_result"
    }
   ],
   "source": [
    "test_csv.head()"
   ]
  },
  {
   "cell_type": "code",
   "execution_count": 5,
   "metadata": {},
   "outputs": [
    {
     "data": {
      "text/plain": [
       "False"
      ]
     },
     "execution_count": 5,
     "metadata": {},
     "output_type": "execute_result"
    }
   ],
   "source": [
    "train_csv[\"Pclass\"].isnull().any()"
   ]
  },
  {
   "cell_type": "code",
   "execution_count": 6,
   "metadata": {},
   "outputs": [
    {
     "data": {
      "text/plain": [
       "False"
      ]
     },
     "execution_count": 6,
     "metadata": {},
     "output_type": "execute_result"
    }
   ],
   "source": [
    "train_csv[\"Sex\"].isnull().any()"
   ]
  },
  {
   "cell_type": "code",
   "execution_count": 7,
   "metadata": {},
   "outputs": [
    {
     "data": {
      "text/plain": [
       "True"
      ]
     },
     "execution_count": 7,
     "metadata": {},
     "output_type": "execute_result"
    }
   ],
   "source": [
    "train_csv[\"Age\"].isnull().any()"
   ]
  },
  {
   "cell_type": "code",
   "execution_count": 8,
   "metadata": {},
   "outputs": [
    {
     "data": {
      "text/plain": [
       "False"
      ]
     },
     "execution_count": 8,
     "metadata": {},
     "output_type": "execute_result"
    }
   ],
   "source": [
    "train_csv[\"SibSp\"].isnull().any()"
   ]
  },
  {
   "cell_type": "code",
   "execution_count": 9,
   "metadata": {},
   "outputs": [
    {
     "data": {
      "text/plain": [
       "False"
      ]
     },
     "execution_count": 9,
     "metadata": {},
     "output_type": "execute_result"
    }
   ],
   "source": [
    "train_csv[\"Parch\"].isnull().any()"
   ]
  },
  {
   "cell_type": "code",
   "execution_count": 10,
   "metadata": {},
   "outputs": [
    {
     "data": {
      "text/plain": [
       "False"
      ]
     },
     "execution_count": 10,
     "metadata": {},
     "output_type": "execute_result"
    }
   ],
   "source": [
    "train_csv[\"Fare\"].isnull().any()"
   ]
  },
  {
   "cell_type": "code",
   "execution_count": 11,
   "metadata": {},
   "outputs": [
    {
     "data": {
      "text/plain": [
       "True"
      ]
     },
     "execution_count": 11,
     "metadata": {},
     "output_type": "execute_result"
    }
   ],
   "source": [
    "train_csv[\"Cabin\"].isnull().any()"
   ]
  },
  {
   "cell_type": "code",
   "execution_count": 12,
   "metadata": {},
   "outputs": [
    {
     "data": {
      "text/plain": [
       "True"
      ]
     },
     "execution_count": 12,
     "metadata": {},
     "output_type": "execute_result"
    }
   ],
   "source": [
    "train_csv[\"Embarked\"].isnull().any()"
   ]
  },
  {
   "cell_type": "code",
   "execution_count": 13,
   "metadata": {},
   "outputs": [],
   "source": [
    "train_csv[\"Sex\"] = np.where(train_csv[\"Sex\"] == 'female', 0, 1)"
   ]
  },
  {
   "cell_type": "code",
   "execution_count": 14,
   "metadata": {},
   "outputs": [
    {
     "data": {
      "text/html": [
       "<div>\n",
       "<style scoped>\n",
       "    .dataframe tbody tr th:only-of-type {\n",
       "        vertical-align: middle;\n",
       "    }\n",
       "\n",
       "    .dataframe tbody tr th {\n",
       "        vertical-align: top;\n",
       "    }\n",
       "\n",
       "    .dataframe thead th {\n",
       "        text-align: right;\n",
       "    }\n",
       "</style>\n",
       "<table border=\"1\" class=\"dataframe\">\n",
       "  <thead>\n",
       "    <tr style=\"text-align: right;\">\n",
       "      <th></th>\n",
       "      <th>PassengerId</th>\n",
       "      <th>Survived</th>\n",
       "      <th>Pclass</th>\n",
       "      <th>Name</th>\n",
       "      <th>Sex</th>\n",
       "      <th>Age</th>\n",
       "      <th>SibSp</th>\n",
       "      <th>Parch</th>\n",
       "      <th>Ticket</th>\n",
       "      <th>Fare</th>\n",
       "      <th>Cabin</th>\n",
       "      <th>Embarked</th>\n",
       "    </tr>\n",
       "  </thead>\n",
       "  <tbody>\n",
       "    <tr>\n",
       "      <th>0</th>\n",
       "      <td>1</td>\n",
       "      <td>0</td>\n",
       "      <td>3</td>\n",
       "      <td>Braund, Mr. Owen Harris</td>\n",
       "      <td>1</td>\n",
       "      <td>22.0</td>\n",
       "      <td>1</td>\n",
       "      <td>0</td>\n",
       "      <td>A/5 21171</td>\n",
       "      <td>7.2500</td>\n",
       "      <td>NaN</td>\n",
       "      <td>S</td>\n",
       "    </tr>\n",
       "    <tr>\n",
       "      <th>1</th>\n",
       "      <td>2</td>\n",
       "      <td>1</td>\n",
       "      <td>1</td>\n",
       "      <td>Cumings, Mrs. John Bradley (Florence Briggs Th...</td>\n",
       "      <td>0</td>\n",
       "      <td>38.0</td>\n",
       "      <td>1</td>\n",
       "      <td>0</td>\n",
       "      <td>PC 17599</td>\n",
       "      <td>71.2833</td>\n",
       "      <td>C85</td>\n",
       "      <td>C</td>\n",
       "    </tr>\n",
       "    <tr>\n",
       "      <th>2</th>\n",
       "      <td>3</td>\n",
       "      <td>1</td>\n",
       "      <td>3</td>\n",
       "      <td>Heikkinen, Miss. Laina</td>\n",
       "      <td>0</td>\n",
       "      <td>26.0</td>\n",
       "      <td>0</td>\n",
       "      <td>0</td>\n",
       "      <td>STON/O2. 3101282</td>\n",
       "      <td>7.9250</td>\n",
       "      <td>NaN</td>\n",
       "      <td>S</td>\n",
       "    </tr>\n",
       "    <tr>\n",
       "      <th>3</th>\n",
       "      <td>4</td>\n",
       "      <td>1</td>\n",
       "      <td>1</td>\n",
       "      <td>Futrelle, Mrs. Jacques Heath (Lily May Peel)</td>\n",
       "      <td>0</td>\n",
       "      <td>35.0</td>\n",
       "      <td>1</td>\n",
       "      <td>0</td>\n",
       "      <td>113803</td>\n",
       "      <td>53.1000</td>\n",
       "      <td>C123</td>\n",
       "      <td>S</td>\n",
       "    </tr>\n",
       "    <tr>\n",
       "      <th>4</th>\n",
       "      <td>5</td>\n",
       "      <td>0</td>\n",
       "      <td>3</td>\n",
       "      <td>Allen, Mr. William Henry</td>\n",
       "      <td>1</td>\n",
       "      <td>35.0</td>\n",
       "      <td>0</td>\n",
       "      <td>0</td>\n",
       "      <td>373450</td>\n",
       "      <td>8.0500</td>\n",
       "      <td>NaN</td>\n",
       "      <td>S</td>\n",
       "    </tr>\n",
       "  </tbody>\n",
       "</table>\n",
       "</div>"
      ],
      "text/plain": [
       "   PassengerId  Survived  Pclass  \\\n",
       "0            1         0       3   \n",
       "1            2         1       1   \n",
       "2            3         1       3   \n",
       "3            4         1       1   \n",
       "4            5         0       3   \n",
       "\n",
       "                                                Name  Sex   Age  SibSp  Parch  \\\n",
       "0                            Braund, Mr. Owen Harris    1  22.0      1      0   \n",
       "1  Cumings, Mrs. John Bradley (Florence Briggs Th...    0  38.0      1      0   \n",
       "2                             Heikkinen, Miss. Laina    0  26.0      0      0   \n",
       "3       Futrelle, Mrs. Jacques Heath (Lily May Peel)    0  35.0      1      0   \n",
       "4                           Allen, Mr. William Henry    1  35.0      0      0   \n",
       "\n",
       "             Ticket     Fare Cabin Embarked  \n",
       "0         A/5 21171   7.2500   NaN        S  \n",
       "1          PC 17599  71.2833   C85        C  \n",
       "2  STON/O2. 3101282   7.9250   NaN        S  \n",
       "3            113803  53.1000  C123        S  \n",
       "4            373450   8.0500   NaN        S  "
      ]
     },
     "execution_count": 14,
     "metadata": {},
     "output_type": "execute_result"
    }
   ],
   "source": [
    "train_csv.head()"
   ]
  },
  {
   "cell_type": "code",
   "execution_count": 15,
   "metadata": {},
   "outputs": [],
   "source": [
    "train_csv = train_csv.drop([\"Ticket\"], axis=1)"
   ]
  },
  {
   "cell_type": "code",
   "execution_count": 16,
   "metadata": {},
   "outputs": [],
   "source": [
    "train_csv = train_csv.assign(Name_Mrs = np.nan, Name_Mr = np.nan, Name_Miss = np.nan, Name_Master = np.nan)"
   ]
  },
  {
   "cell_type": "code",
   "execution_count": 17,
   "metadata": {},
   "outputs": [
    {
     "name": "stderr",
     "output_type": "stream",
     "text": [
      "c:\\users\\vicky\\appdata\\local\\programs\\python\\python37\\lib\\site-packages\\ipykernel_launcher.py:6: SettingWithCopyWarning: \n",
      "A value is trying to be set on a copy of a slice from a DataFrame\n",
      "\n",
      "See the caveats in the documentation: https://pandas.pydata.org/pandas-docs/stable/user_guide/indexing.html#returning-a-view-versus-a-copy\n",
      "  \n",
      "c:\\users\\vicky\\appdata\\local\\programs\\python\\python37\\lib\\site-packages\\ipykernel_launcher.py:4: SettingWithCopyWarning: \n",
      "A value is trying to be set on a copy of a slice from a DataFrame\n",
      "\n",
      "See the caveats in the documentation: https://pandas.pydata.org/pandas-docs/stable/user_guide/indexing.html#returning-a-view-versus-a-copy\n",
      "  after removing the cwd from sys.path.\n"
     ]
    }
   ],
   "source": [
    "for index in train_csv.index:\n",
    "    name = train_csv[\"Name\"][index]\n",
    "    if \"Mrs.\" in name:\n",
    "        train_csv[\"Name_Mrs\"][index] = 1\n",
    "    else:\n",
    "        train_csv[\"Name_Mrs\"][index] = 0"
   ]
  },
  {
   "cell_type": "code",
   "execution_count": 18,
   "metadata": {},
   "outputs": [
    {
     "name": "stderr",
     "output_type": "stream",
     "text": [
      "c:\\users\\vicky\\appdata\\local\\programs\\python\\python37\\lib\\site-packages\\ipykernel_launcher.py:4: SettingWithCopyWarning: \n",
      "A value is trying to be set on a copy of a slice from a DataFrame\n",
      "\n",
      "See the caveats in the documentation: https://pandas.pydata.org/pandas-docs/stable/user_guide/indexing.html#returning-a-view-versus-a-copy\n",
      "  after removing the cwd from sys.path.\n",
      "c:\\users\\vicky\\appdata\\local\\programs\\python\\python37\\lib\\site-packages\\ipykernel_launcher.py:6: SettingWithCopyWarning: \n",
      "A value is trying to be set on a copy of a slice from a DataFrame\n",
      "\n",
      "See the caveats in the documentation: https://pandas.pydata.org/pandas-docs/stable/user_guide/indexing.html#returning-a-view-versus-a-copy\n",
      "  \n"
     ]
    }
   ],
   "source": [
    "for index in train_csv.index:\n",
    "    name = train_csv[\"Name\"][index]\n",
    "    if \"Mr.\" in name:\n",
    "        train_csv[\"Name_Mr\"][index] = 1\n",
    "    else:\n",
    "        train_csv[\"Name_Mr\"][index] = 0"
   ]
  },
  {
   "cell_type": "code",
   "execution_count": 19,
   "metadata": {},
   "outputs": [
    {
     "name": "stderr",
     "output_type": "stream",
     "text": [
      "c:\\users\\vicky\\appdata\\local\\programs\\python\\python37\\lib\\site-packages\\ipykernel_launcher.py:6: SettingWithCopyWarning: \n",
      "A value is trying to be set on a copy of a slice from a DataFrame\n",
      "\n",
      "See the caveats in the documentation: https://pandas.pydata.org/pandas-docs/stable/user_guide/indexing.html#returning-a-view-versus-a-copy\n",
      "  \n",
      "c:\\users\\vicky\\appdata\\local\\programs\\python\\python37\\lib\\site-packages\\ipykernel_launcher.py:4: SettingWithCopyWarning: \n",
      "A value is trying to be set on a copy of a slice from a DataFrame\n",
      "\n",
      "See the caveats in the documentation: https://pandas.pydata.org/pandas-docs/stable/user_guide/indexing.html#returning-a-view-versus-a-copy\n",
      "  after removing the cwd from sys.path.\n"
     ]
    }
   ],
   "source": [
    "for index in train_csv.index:\n",
    "    name = train_csv[\"Name\"][index]\n",
    "    if \"Miss.\" in name:\n",
    "        train_csv[\"Name_Miss\"][index] = 1\n",
    "    else:\n",
    "        train_csv[\"Name_Miss\"][index] = 0"
   ]
  },
  {
   "cell_type": "code",
   "execution_count": 20,
   "metadata": {},
   "outputs": [
    {
     "name": "stderr",
     "output_type": "stream",
     "text": [
      "c:\\users\\vicky\\appdata\\local\\programs\\python\\python37\\lib\\site-packages\\ipykernel_launcher.py:6: SettingWithCopyWarning: \n",
      "A value is trying to be set on a copy of a slice from a DataFrame\n",
      "\n",
      "See the caveats in the documentation: https://pandas.pydata.org/pandas-docs/stable/user_guide/indexing.html#returning-a-view-versus-a-copy\n",
      "  \n",
      "c:\\users\\vicky\\appdata\\local\\programs\\python\\python37\\lib\\site-packages\\ipykernel_launcher.py:4: SettingWithCopyWarning: \n",
      "A value is trying to be set on a copy of a slice from a DataFrame\n",
      "\n",
      "See the caveats in the documentation: https://pandas.pydata.org/pandas-docs/stable/user_guide/indexing.html#returning-a-view-versus-a-copy\n",
      "  after removing the cwd from sys.path.\n"
     ]
    }
   ],
   "source": [
    "for index in train_csv.index:\n",
    "    name = train_csv[\"Name\"][index]\n",
    "    if \"Master.\" in name:\n",
    "        train_csv[\"Name_Master\"][index] = 1\n",
    "    else:\n",
    "        train_csv[\"Name_Master\"][index] = 0"
   ]
  },
  {
   "cell_type": "code",
   "execution_count": 21,
   "metadata": {},
   "outputs": [],
   "source": [
    "train_csv[\"Name_Mrs\"].fillna(value=0, inplace=True)\n",
    "train_csv[\"Name_Mr\"].fillna(value=0, inplace=True)\n",
    "train_csv[\"Name_Miss\"].fillna(value=0, inplace=True)\n",
    "train_csv[\"Name_Master\"].fillna(value=0, inplace=True)"
   ]
  },
  {
   "cell_type": "code",
   "execution_count": 22,
   "metadata": {},
   "outputs": [],
   "source": [
    "train_csv = train_csv.drop([\"Name\"], axis=1)"
   ]
  },
  {
   "cell_type": "code",
   "execution_count": 23,
   "metadata": {},
   "outputs": [],
   "source": [
    "train_csv = train_csv.drop([\"Cabin\"], axis=1)"
   ]
  },
  {
   "cell_type": "code",
   "execution_count": 24,
   "metadata": {},
   "outputs": [],
   "source": [
    "train_csv[\"Embarked\"].fillna(value=\"U\", inplace=True)"
   ]
  },
  {
   "cell_type": "code",
   "execution_count": 25,
   "metadata": {},
   "outputs": [],
   "source": [
    "emb_dict = {\"S\":1 , \"C\":2 , \"Q\":3 , \"U\":0}"
   ]
  },
  {
   "cell_type": "code",
   "execution_count": 26,
   "metadata": {},
   "outputs": [],
   "source": [
    "train_csv[\"Embarked\"] = train_csv.Embarked.replace(emb_dict)"
   ]
  },
  {
   "cell_type": "code",
   "execution_count": 27,
   "metadata": {},
   "outputs": [
    {
     "data": {
      "text/html": [
       "<div>\n",
       "<style scoped>\n",
       "    .dataframe tbody tr th:only-of-type {\n",
       "        vertical-align: middle;\n",
       "    }\n",
       "\n",
       "    .dataframe tbody tr th {\n",
       "        vertical-align: top;\n",
       "    }\n",
       "\n",
       "    .dataframe thead th {\n",
       "        text-align: right;\n",
       "    }\n",
       "</style>\n",
       "<table border=\"1\" class=\"dataframe\">\n",
       "  <thead>\n",
       "    <tr style=\"text-align: right;\">\n",
       "      <th></th>\n",
       "      <th>PassengerId</th>\n",
       "      <th>Survived</th>\n",
       "      <th>Pclass</th>\n",
       "      <th>Sex</th>\n",
       "      <th>Age</th>\n",
       "      <th>SibSp</th>\n",
       "      <th>Parch</th>\n",
       "      <th>Fare</th>\n",
       "      <th>Embarked</th>\n",
       "      <th>Name_Mrs</th>\n",
       "      <th>Name_Mr</th>\n",
       "      <th>Name_Miss</th>\n",
       "      <th>Name_Master</th>\n",
       "    </tr>\n",
       "  </thead>\n",
       "  <tbody>\n",
       "    <tr>\n",
       "      <th>0</th>\n",
       "      <td>1</td>\n",
       "      <td>0</td>\n",
       "      <td>3</td>\n",
       "      <td>1</td>\n",
       "      <td>22.0</td>\n",
       "      <td>1</td>\n",
       "      <td>0</td>\n",
       "      <td>7.2500</td>\n",
       "      <td>1</td>\n",
       "      <td>0.0</td>\n",
       "      <td>1.0</td>\n",
       "      <td>0.0</td>\n",
       "      <td>0.0</td>\n",
       "    </tr>\n",
       "    <tr>\n",
       "      <th>1</th>\n",
       "      <td>2</td>\n",
       "      <td>1</td>\n",
       "      <td>1</td>\n",
       "      <td>0</td>\n",
       "      <td>38.0</td>\n",
       "      <td>1</td>\n",
       "      <td>0</td>\n",
       "      <td>71.2833</td>\n",
       "      <td>2</td>\n",
       "      <td>1.0</td>\n",
       "      <td>0.0</td>\n",
       "      <td>0.0</td>\n",
       "      <td>0.0</td>\n",
       "    </tr>\n",
       "    <tr>\n",
       "      <th>2</th>\n",
       "      <td>3</td>\n",
       "      <td>1</td>\n",
       "      <td>3</td>\n",
       "      <td>0</td>\n",
       "      <td>26.0</td>\n",
       "      <td>0</td>\n",
       "      <td>0</td>\n",
       "      <td>7.9250</td>\n",
       "      <td>1</td>\n",
       "      <td>0.0</td>\n",
       "      <td>0.0</td>\n",
       "      <td>1.0</td>\n",
       "      <td>0.0</td>\n",
       "    </tr>\n",
       "    <tr>\n",
       "      <th>3</th>\n",
       "      <td>4</td>\n",
       "      <td>1</td>\n",
       "      <td>1</td>\n",
       "      <td>0</td>\n",
       "      <td>35.0</td>\n",
       "      <td>1</td>\n",
       "      <td>0</td>\n",
       "      <td>53.1000</td>\n",
       "      <td>1</td>\n",
       "      <td>1.0</td>\n",
       "      <td>0.0</td>\n",
       "      <td>0.0</td>\n",
       "      <td>0.0</td>\n",
       "    </tr>\n",
       "    <tr>\n",
       "      <th>4</th>\n",
       "      <td>5</td>\n",
       "      <td>0</td>\n",
       "      <td>3</td>\n",
       "      <td>1</td>\n",
       "      <td>35.0</td>\n",
       "      <td>0</td>\n",
       "      <td>0</td>\n",
       "      <td>8.0500</td>\n",
       "      <td>1</td>\n",
       "      <td>0.0</td>\n",
       "      <td>1.0</td>\n",
       "      <td>0.0</td>\n",
       "      <td>0.0</td>\n",
       "    </tr>\n",
       "    <tr>\n",
       "      <th>...</th>\n",
       "      <td>...</td>\n",
       "      <td>...</td>\n",
       "      <td>...</td>\n",
       "      <td>...</td>\n",
       "      <td>...</td>\n",
       "      <td>...</td>\n",
       "      <td>...</td>\n",
       "      <td>...</td>\n",
       "      <td>...</td>\n",
       "      <td>...</td>\n",
       "      <td>...</td>\n",
       "      <td>...</td>\n",
       "      <td>...</td>\n",
       "    </tr>\n",
       "    <tr>\n",
       "      <th>886</th>\n",
       "      <td>887</td>\n",
       "      <td>0</td>\n",
       "      <td>2</td>\n",
       "      <td>1</td>\n",
       "      <td>27.0</td>\n",
       "      <td>0</td>\n",
       "      <td>0</td>\n",
       "      <td>13.0000</td>\n",
       "      <td>1</td>\n",
       "      <td>0.0</td>\n",
       "      <td>0.0</td>\n",
       "      <td>0.0</td>\n",
       "      <td>0.0</td>\n",
       "    </tr>\n",
       "    <tr>\n",
       "      <th>887</th>\n",
       "      <td>888</td>\n",
       "      <td>1</td>\n",
       "      <td>1</td>\n",
       "      <td>0</td>\n",
       "      <td>19.0</td>\n",
       "      <td>0</td>\n",
       "      <td>0</td>\n",
       "      <td>30.0000</td>\n",
       "      <td>1</td>\n",
       "      <td>0.0</td>\n",
       "      <td>0.0</td>\n",
       "      <td>1.0</td>\n",
       "      <td>0.0</td>\n",
       "    </tr>\n",
       "    <tr>\n",
       "      <th>888</th>\n",
       "      <td>889</td>\n",
       "      <td>0</td>\n",
       "      <td>3</td>\n",
       "      <td>0</td>\n",
       "      <td>NaN</td>\n",
       "      <td>1</td>\n",
       "      <td>2</td>\n",
       "      <td>23.4500</td>\n",
       "      <td>1</td>\n",
       "      <td>0.0</td>\n",
       "      <td>0.0</td>\n",
       "      <td>1.0</td>\n",
       "      <td>0.0</td>\n",
       "    </tr>\n",
       "    <tr>\n",
       "      <th>889</th>\n",
       "      <td>890</td>\n",
       "      <td>1</td>\n",
       "      <td>1</td>\n",
       "      <td>1</td>\n",
       "      <td>26.0</td>\n",
       "      <td>0</td>\n",
       "      <td>0</td>\n",
       "      <td>30.0000</td>\n",
       "      <td>2</td>\n",
       "      <td>0.0</td>\n",
       "      <td>1.0</td>\n",
       "      <td>0.0</td>\n",
       "      <td>0.0</td>\n",
       "    </tr>\n",
       "    <tr>\n",
       "      <th>890</th>\n",
       "      <td>891</td>\n",
       "      <td>0</td>\n",
       "      <td>3</td>\n",
       "      <td>1</td>\n",
       "      <td>32.0</td>\n",
       "      <td>0</td>\n",
       "      <td>0</td>\n",
       "      <td>7.7500</td>\n",
       "      <td>3</td>\n",
       "      <td>0.0</td>\n",
       "      <td>1.0</td>\n",
       "      <td>0.0</td>\n",
       "      <td>0.0</td>\n",
       "    </tr>\n",
       "  </tbody>\n",
       "</table>\n",
       "<p>891 rows × 13 columns</p>\n",
       "</div>"
      ],
      "text/plain": [
       "     PassengerId  Survived  Pclass  Sex   Age  SibSp  Parch     Fare  \\\n",
       "0              1         0       3    1  22.0      1      0   7.2500   \n",
       "1              2         1       1    0  38.0      1      0  71.2833   \n",
       "2              3         1       3    0  26.0      0      0   7.9250   \n",
       "3              4         1       1    0  35.0      1      0  53.1000   \n",
       "4              5         0       3    1  35.0      0      0   8.0500   \n",
       "..           ...       ...     ...  ...   ...    ...    ...      ...   \n",
       "886          887         0       2    1  27.0      0      0  13.0000   \n",
       "887          888         1       1    0  19.0      0      0  30.0000   \n",
       "888          889         0       3    0   NaN      1      2  23.4500   \n",
       "889          890         1       1    1  26.0      0      0  30.0000   \n",
       "890          891         0       3    1  32.0      0      0   7.7500   \n",
       "\n",
       "     Embarked  Name_Mrs  Name_Mr  Name_Miss  Name_Master  \n",
       "0           1       0.0      1.0        0.0          0.0  \n",
       "1           2       1.0      0.0        0.0          0.0  \n",
       "2           1       0.0      0.0        1.0          0.0  \n",
       "3           1       1.0      0.0        0.0          0.0  \n",
       "4           1       0.0      1.0        0.0          0.0  \n",
       "..        ...       ...      ...        ...          ...  \n",
       "886         1       0.0      0.0        0.0          0.0  \n",
       "887         1       0.0      0.0        1.0          0.0  \n",
       "888         1       0.0      0.0        1.0          0.0  \n",
       "889         2       0.0      1.0        0.0          0.0  \n",
       "890         3       0.0      1.0        0.0          0.0  \n",
       "\n",
       "[891 rows x 13 columns]"
      ]
     },
     "execution_count": 27,
     "metadata": {},
     "output_type": "execute_result"
    }
   ],
   "source": [
    "train_csv"
   ]
  },
  {
   "cell_type": "code",
   "execution_count": 28,
   "metadata": {},
   "outputs": [],
   "source": [
    "train_csv[\"Age\"].fillna(value=train_csv[\"Age\"].mean(), inplace=True)"
   ]
  },
  {
   "cell_type": "code",
   "execution_count": 29,
   "metadata": {},
   "outputs": [],
   "source": [
    "train_csv[\"Fare\"].fillna(value=train_csv[\"Fare\"].interpolate(), inplace=True)"
   ]
  },
  {
   "cell_type": "code",
   "execution_count": 30,
   "metadata": {},
   "outputs": [],
   "source": [
    "train_csv = train_csv.drop([\"PassengerId\"], axis=1)"
   ]
  },
  {
   "cell_type": "code",
   "execution_count": 31,
   "metadata": {},
   "outputs": [
    {
     "name": "stdout",
     "output_type": "stream",
     "text": [
      "<class 'pandas.core.frame.DataFrame'>\n"
     ]
    }
   ],
   "source": [
    "print(type(train_csv))"
   ]
  },
  {
   "cell_type": "code",
   "execution_count": 32,
   "metadata": {},
   "outputs": [
    {
     "data": {
      "text/plain": [
       "<AxesSubplot:>"
      ]
     },
     "execution_count": 32,
     "metadata": {},
     "output_type": "execute_result"
    },
    {
     "data": {
      "image/png": "[encoded data removed]",
      "text/plain": [
       "<Figure size 1296x432 with 1 Axes>"
      ]
     },
     "metadata": {
      "needs_background": "light"
     },
     "output_type": "display_data"
    }
   ],
   "source": [
    "import matplotlib.pyplot as plt       \n",
    "fig = plt.figure(figsize=(18,6))      \n",
    "\n",
    "train_csv.Survived.value_counts().plot(kind=\"bar\",alpha=0.5)  "
   ]
  },
  {
   "cell_type": "code",
   "execution_count": 33,
   "metadata": {},
   "outputs": [
    {
     "data": {
      "text/plain": [
       "Survived       1.000000\n",
       "Pclass        -0.338481\n",
       "Sex           -0.543351\n",
       "Age           -0.069809\n",
       "SibSp         -0.035322\n",
       "Parch          0.081629\n",
       "Fare           0.257307\n",
       "Embarked       0.101849\n",
       "Name_Mrs       0.339040\n",
       "Name_Mr       -0.549199\n",
       "Name_Miss      0.327093\n",
       "Name_Master    0.085221\n",
       "Name: Survived, dtype: float64"
      ]
     },
     "execution_count": 33,
     "metadata": {},
     "output_type": "execute_result"
    }
   ],
   "source": [
    "train_csv.corr()[\"Survived\"]"
   ]
  },
  {
   "cell_type": "code",
   "execution_count": 34,
   "metadata": {},
   "outputs": [],
   "source": [
    "train_labels = train_csv[\"Survived\"]\n",
    "train_csv = train_csv.drop([\"Survived\"], axis=1)"
   ]
  },
  {
   "cell_type": "code",
   "execution_count": 35,
   "metadata": {},
   "outputs": [
    {
     "name": "stdout",
     "output_type": "stream",
     "text": [
      "     Pclass  Sex        Age  SibSp  Parch     Fare  Embarked  Name_Mrs  \\\n",
      "0         3    1  22.000000      1      0   7.2500         1       0.0   \n",
      "1         1    0  38.000000      1      0  71.2833         2       1.0   \n",
      "2         3    0  26.000000      0      0   7.9250         1       0.0   \n",
      "3         1    0  35.000000      1      0  53.1000         1       1.0   \n",
      "4         3    1  35.000000      0      0   8.0500         1       0.0   \n",
      "..      ...  ...        ...    ...    ...      ...       ...       ...   \n",
      "886       2    1  27.000000      0      0  13.0000         1       0.0   \n",
      "887       1    0  19.000000      0      0  30.0000         1       0.0   \n",
      "888       3    0  29.699118      1      2  23.4500         1       0.0   \n",
      "889       1    1  26.000000      0      0  30.0000         2       0.0   \n",
      "890       3    1  32.000000      0      0   7.7500         3       0.0   \n",
      "\n",
      "     Name_Mr  Name_Miss  Name_Master  \n",
      "0        1.0        0.0          0.0  \n",
      "1        0.0        0.0          0.0  \n",
      "2        0.0        1.0          0.0  \n",
      "3        0.0        0.0          0.0  \n",
      "4        1.0        0.0          0.0  \n",
      "..       ...        ...          ...  \n",
      "886      0.0        0.0          0.0  \n",
      "887      0.0        1.0          0.0  \n",
      "888      0.0        1.0          0.0  \n",
      "889      1.0        0.0          0.0  \n",
      "890      1.0        0.0          0.0  \n",
      "\n",
      "[891 rows x 11 columns]\n",
      "0      0\n",
      "1      1\n",
      "2      1\n",
      "3      1\n",
      "4      0\n",
      "      ..\n",
      "886    0\n",
      "887    1\n",
      "888    0\n",
      "889    1\n",
      "890    0\n",
      "Name: Survived, Length: 891, dtype: int64\n"
     ]
    }
   ],
   "source": [
    "print(train_csv)\n",
    "print(train_labels)"
   ]
  },
  {
   "cell_type": "code",
   "execution_count": 36,
   "metadata": {},
   "outputs": [],
   "source": [
    "test_csv[\"Sex\"] = np.where(test_csv[\"Sex\"] == 'female', 0, 1)\n",
    "test_csv = test_csv.drop([\"Ticket\"], axis=1)\n",
    "test_csv = test_csv.drop([\"Cabin\"], axis=1)\n",
    "test_csv[\"Embarked\"].fillna(value=\"U\", inplace=True)\n",
    "test_csv[\"Embarked\"] = test_csv.Embarked.replace(emb_dict)\n",
    "test_csv[\"Age\"].fillna(value=test_csv[\"Age\"].mean(), inplace=True)\n",
    "test_passenger_vals = test_csv[\"PassengerId\"]\n",
    "test_csv = test_csv.drop([\"PassengerId\"], axis=1)"
   ]
  },
  {
   "cell_type": "code",
   "execution_count": 37,
   "metadata": {},
   "outputs": [],
   "source": [
    "test_csv = test_csv.assign(Name_Mrs = np.nan, Name_Mr = np.nan, Name_Miss = np.nan, Name_Master = np.nan)"
   ]
  },
  {
   "cell_type": "code",
   "execution_count": 38,
   "metadata": {},
   "outputs": [
    {
     "name": "stderr",
     "output_type": "stream",
     "text": [
      "c:\\users\\vicky\\appdata\\local\\programs\\python\\python37\\lib\\site-packages\\ipykernel_launcher.py:6: SettingWithCopyWarning: \n",
      "A value is trying to be set on a copy of a slice from a DataFrame\n",
      "\n",
      "See the caveats in the documentation: https://pandas.pydata.org/pandas-docs/stable/user_guide/indexing.html#returning-a-view-versus-a-copy\n",
      "  \n",
      "c:\\users\\vicky\\appdata\\local\\programs\\python\\python37\\lib\\site-packages\\ipykernel_launcher.py:4: SettingWithCopyWarning: \n",
      "A value is trying to be set on a copy of a slice from a DataFrame\n",
      "\n",
      "See the caveats in the documentation: https://pandas.pydata.org/pandas-docs/stable/user_guide/indexing.html#returning-a-view-versus-a-copy\n",
      "  after removing the cwd from sys.path.\n"
     ]
    }
   ],
   "source": [
    "for index in test_csv.index:\n",
    "    name = test_csv[\"Name\"][index]\n",
    "    if \"Mrs.\" in name:\n",
    "        test_csv[\"Name_Mrs\"][index] = 1\n",
    "    else:\n",
    "        test_csv[\"Name_Mrs\"][index] = 0"
   ]
  },
  {
   "cell_type": "code",
   "execution_count": 39,
   "metadata": {},
   "outputs": [
    {
     "name": "stderr",
     "output_type": "stream",
     "text": [
      "c:\\users\\vicky\\appdata\\local\\programs\\python\\python37\\lib\\site-packages\\ipykernel_launcher.py:4: SettingWithCopyWarning: \n",
      "A value is trying to be set on a copy of a slice from a DataFrame\n",
      "\n",
      "See the caveats in the documentation: https://pandas.pydata.org/pandas-docs/stable/user_guide/indexing.html#returning-a-view-versus-a-copy\n",
      "  after removing the cwd from sys.path.\n",
      "c:\\users\\vicky\\appdata\\local\\programs\\python\\python37\\lib\\site-packages\\ipykernel_launcher.py:6: SettingWithCopyWarning: \n",
      "A value is trying to be set on a copy of a slice from a DataFrame\n",
      "\n",
      "See the caveats in the documentation: https://pandas.pydata.org/pandas-docs/stable/user_guide/indexing.html#returning-a-view-versus-a-copy\n",
      "  \n"
     ]
    }
   ],
   "source": [
    "for index in test_csv.index:\n",
    "    name = test_csv[\"Name\"][index]\n",
    "    if \"Mr.\" in name:\n",
    "        test_csv[\"Name_Mr\"][index] = 1\n",
    "    else:\n",
    "        test_csv[\"Name_Mr\"][index] = 0"
   ]
  },
  {
   "cell_type": "code",
   "execution_count": 40,
   "metadata": {},
   "outputs": [
    {
     "name": "stderr",
     "output_type": "stream",
     "text": [
      "c:\\users\\vicky\\appdata\\local\\programs\\python\\python37\\lib\\site-packages\\ipykernel_launcher.py:6: SettingWithCopyWarning: \n",
      "A value is trying to be set on a copy of a slice from a DataFrame\n",
      "\n",
      "See the caveats in the documentation: https://pandas.pydata.org/pandas-docs/stable/user_guide/indexing.html#returning-a-view-versus-a-copy\n",
      "  \n",
      "c:\\users\\vicky\\appdata\\local\\programs\\python\\python37\\lib\\site-packages\\ipykernel_launcher.py:4: SettingWithCopyWarning: \n",
      "A value is trying to be set on a copy of a slice from a DataFrame\n",
      "\n",
      "See the caveats in the documentation: https://pandas.pydata.org/pandas-docs/stable/user_guide/indexing.html#returning-a-view-versus-a-copy\n",
      "  after removing the cwd from sys.path.\n"
     ]
    }
   ],
   "source": [
    "for index in test_csv.index:\n",
    "    name = test_csv[\"Name\"][index]\n",
    "    if \"Miss.\" in name:\n",
    "        test_csv[\"Name_Miss\"][index] = 1\n",
    "    else:\n",
    "        test_csv[\"Name_Miss\"][index] = 0 "
   ]
  },
  {
   "cell_type": "code",
   "execution_count": 41,
   "metadata": {},
   "outputs": [
    {
     "name": "stderr",
     "output_type": "stream",
     "text": [
      "c:\\users\\vicky\\appdata\\local\\programs\\python\\python37\\lib\\site-packages\\ipykernel_launcher.py:6: SettingWithCopyWarning: \n",
      "A value is trying to be set on a copy of a slice from a DataFrame\n",
      "\n",
      "See the caveats in the documentation: https://pandas.pydata.org/pandas-docs/stable/user_guide/indexing.html#returning-a-view-versus-a-copy\n",
      "  \n",
      "c:\\users\\vicky\\appdata\\local\\programs\\python\\python37\\lib\\site-packages\\ipykernel_launcher.py:4: SettingWithCopyWarning: \n",
      "A value is trying to be set on a copy of a slice from a DataFrame\n",
      "\n",
      "See the caveats in the documentation: https://pandas.pydata.org/pandas-docs/stable/user_guide/indexing.html#returning-a-view-versus-a-copy\n",
      "  after removing the cwd from sys.path.\n"
     ]
    }
   ],
   "source": [
    "for index in test_csv.index:\n",
    "    name = test_csv[\"Name\"][index]\n",
    "    if \"Master.\" in name:\n",
    "        test_csv[\"Name_Master\"][index] = 1\n",
    "    else:\n",
    "        test_csv[\"Name_Master\"][index] = 0"
   ]
  },
  {
   "cell_type": "code",
   "execution_count": 42,
   "metadata": {},
   "outputs": [],
   "source": [
    "test_csv[\"Name_Mrs\"].fillna(value=0, inplace=True)\n",
    "test_csv[\"Name_Mr\"].fillna(value=0, inplace=True)\n",
    "test_csv[\"Name_Miss\"].fillna(value=0, inplace=True)\n",
    "test_csv[\"Name_Master\"].fillna(value=0, inplace=True)"
   ]
  },
  {
   "cell_type": "code",
   "execution_count": 43,
   "metadata": {},
   "outputs": [],
   "source": [
    "test_csv = test_csv.drop([\"Name\"], axis=1)"
   ]
  },
  {
   "cell_type": "code",
   "execution_count": 44,
   "metadata": {},
   "outputs": [
    {
     "data": {
      "text/html": [
       "<div>\n",
       "<style scoped>\n",
       "    .dataframe tbody tr th:only-of-type {\n",
       "        vertical-align: middle;\n",
       "    }\n",
       "\n",
       "    .dataframe tbody tr th {\n",
       "        vertical-align: top;\n",
       "    }\n",
       "\n",
       "    .dataframe thead th {\n",
       "        text-align: right;\n",
       "    }\n",
       "</style>\n",
       "<table border=\"1\" class=\"dataframe\">\n",
       "  <thead>\n",
       "    <tr style=\"text-align: right;\">\n",
       "      <th></th>\n",
       "      <th>Pclass</th>\n",
       "      <th>Sex</th>\n",
       "      <th>Age</th>\n",
       "      <th>SibSp</th>\n",
       "      <th>Parch</th>\n",
       "      <th>Fare</th>\n",
       "      <th>Embarked</th>\n",
       "      <th>Name_Mrs</th>\n",
       "      <th>Name_Mr</th>\n",
       "      <th>Name_Miss</th>\n",
       "      <th>Name_Master</th>\n",
       "    </tr>\n",
       "  </thead>\n",
       "  <tbody>\n",
       "    <tr>\n",
       "      <th>0</th>\n",
       "      <td>3</td>\n",
       "      <td>1</td>\n",
       "      <td>34.50000</td>\n",
       "      <td>0</td>\n",
       "      <td>0</td>\n",
       "      <td>7.8292</td>\n",
       "      <td>3</td>\n",
       "      <td>0.0</td>\n",
       "      <td>1.0</td>\n",
       "      <td>0.0</td>\n",
       "      <td>0.0</td>\n",
       "    </tr>\n",
       "    <tr>\n",
       "      <th>1</th>\n",
       "      <td>3</td>\n",
       "      <td>0</td>\n",
       "      <td>47.00000</td>\n",
       "      <td>1</td>\n",
       "      <td>0</td>\n",
       "      <td>7.0000</td>\n",
       "      <td>1</td>\n",
       "      <td>1.0</td>\n",
       "      <td>0.0</td>\n",
       "      <td>0.0</td>\n",
       "      <td>0.0</td>\n",
       "    </tr>\n",
       "    <tr>\n",
       "      <th>2</th>\n",
       "      <td>2</td>\n",
       "      <td>1</td>\n",
       "      <td>62.00000</td>\n",
       "      <td>0</td>\n",
       "      <td>0</td>\n",
       "      <td>9.6875</td>\n",
       "      <td>3</td>\n",
       "      <td>0.0</td>\n",
       "      <td>1.0</td>\n",
       "      <td>0.0</td>\n",
       "      <td>0.0</td>\n",
       "    </tr>\n",
       "    <tr>\n",
       "      <th>3</th>\n",
       "      <td>3</td>\n",
       "      <td>1</td>\n",
       "      <td>27.00000</td>\n",
       "      <td>0</td>\n",
       "      <td>0</td>\n",
       "      <td>8.6625</td>\n",
       "      <td>1</td>\n",
       "      <td>0.0</td>\n",
       "      <td>1.0</td>\n",
       "      <td>0.0</td>\n",
       "      <td>0.0</td>\n",
       "    </tr>\n",
       "    <tr>\n",
       "      <th>4</th>\n",
       "      <td>3</td>\n",
       "      <td>0</td>\n",
       "      <td>22.00000</td>\n",
       "      <td>1</td>\n",
       "      <td>1</td>\n",
       "      <td>12.2875</td>\n",
       "      <td>1</td>\n",
       "      <td>1.0</td>\n",
       "      <td>0.0</td>\n",
       "      <td>0.0</td>\n",
       "      <td>0.0</td>\n",
       "    </tr>\n",
       "    <tr>\n",
       "      <th>...</th>\n",
       "      <td>...</td>\n",
       "      <td>...</td>\n",
       "      <td>...</td>\n",
       "      <td>...</td>\n",
       "      <td>...</td>\n",
       "      <td>...</td>\n",
       "      <td>...</td>\n",
       "      <td>...</td>\n",
       "      <td>...</td>\n",
       "      <td>...</td>\n",
       "      <td>...</td>\n",
       "    </tr>\n",
       "    <tr>\n",
       "      <th>413</th>\n",
       "      <td>3</td>\n",
       "      <td>1</td>\n",
       "      <td>30.27259</td>\n",
       "      <td>0</td>\n",
       "      <td>0</td>\n",
       "      <td>8.0500</td>\n",
       "      <td>1</td>\n",
       "      <td>0.0</td>\n",
       "      <td>1.0</td>\n",
       "      <td>0.0</td>\n",
       "      <td>0.0</td>\n",
       "    </tr>\n",
       "    <tr>\n",
       "      <th>414</th>\n",
       "      <td>1</td>\n",
       "      <td>0</td>\n",
       "      <td>39.00000</td>\n",
       "      <td>0</td>\n",
       "      <td>0</td>\n",
       "      <td>108.9000</td>\n",
       "      <td>2</td>\n",
       "      <td>0.0</td>\n",
       "      <td>0.0</td>\n",
       "      <td>0.0</td>\n",
       "      <td>0.0</td>\n",
       "    </tr>\n",
       "    <tr>\n",
       "      <th>415</th>\n",
       "      <td>3</td>\n",
       "      <td>1</td>\n",
       "      <td>38.50000</td>\n",
       "      <td>0</td>\n",
       "      <td>0</td>\n",
       "      <td>7.2500</td>\n",
       "      <td>1</td>\n",
       "      <td>0.0</td>\n",
       "      <td>1.0</td>\n",
       "      <td>0.0</td>\n",
       "      <td>0.0</td>\n",
       "    </tr>\n",
       "    <tr>\n",
       "      <th>416</th>\n",
       "      <td>3</td>\n",
       "      <td>1</td>\n",
       "      <td>30.27259</td>\n",
       "      <td>0</td>\n",
       "      <td>0</td>\n",
       "      <td>8.0500</td>\n",
       "      <td>1</td>\n",
       "      <td>0.0</td>\n",
       "      <td>1.0</td>\n",
       "      <td>0.0</td>\n",
       "      <td>0.0</td>\n",
       "    </tr>\n",
       "    <tr>\n",
       "      <th>417</th>\n",
       "      <td>3</td>\n",
       "      <td>1</td>\n",
       "      <td>30.27259</td>\n",
       "      <td>1</td>\n",
       "      <td>1</td>\n",
       "      <td>22.3583</td>\n",
       "      <td>2</td>\n",
       "      <td>0.0</td>\n",
       "      <td>0.0</td>\n",
       "      <td>0.0</td>\n",
       "      <td>1.0</td>\n",
       "    </tr>\n",
       "  </tbody>\n",
       "</table>\n",
       "<p>418 rows × 11 columns</p>\n",
       "</div>"
      ],
      "text/plain": [
       "     Pclass  Sex       Age  SibSp  Parch      Fare  Embarked  Name_Mrs  \\\n",
       "0         3    1  34.50000      0      0    7.8292         3       0.0   \n",
       "1         3    0  47.00000      1      0    7.0000         1       1.0   \n",
       "2         2    1  62.00000      0      0    9.6875         3       0.0   \n",
       "3         3    1  27.00000      0      0    8.6625         1       0.0   \n",
       "4         3    0  22.00000      1      1   12.2875         1       1.0   \n",
       "..      ...  ...       ...    ...    ...       ...       ...       ...   \n",
       "413       3    1  30.27259      0      0    8.0500         1       0.0   \n",
       "414       1    0  39.00000      0      0  108.9000         2       0.0   \n",
       "415       3    1  38.50000      0      0    7.2500         1       0.0   \n",
       "416       3    1  30.27259      0      0    8.0500         1       0.0   \n",
       "417       3    1  30.27259      1      1   22.3583         2       0.0   \n",
       "\n",
       "     Name_Mr  Name_Miss  Name_Master  \n",
       "0        1.0        0.0          0.0  \n",
       "1        0.0        0.0          0.0  \n",
       "2        1.0        0.0          0.0  \n",
       "3        1.0        0.0          0.0  \n",
       "4        0.0        0.0          0.0  \n",
       "..       ...        ...          ...  \n",
       "413      1.0        0.0          0.0  \n",
       "414      0.0        0.0          0.0  \n",
       "415      1.0        0.0          0.0  \n",
       "416      1.0        0.0          0.0  \n",
       "417      0.0        0.0          1.0  \n",
       "\n",
       "[418 rows x 11 columns]"
      ]
     },
     "execution_count": 44,
     "metadata": {},
     "output_type": "execute_result"
    }
   ],
   "source": [
    "test_csv"
   ]
  },
  {
   "cell_type": "code",
   "execution_count": 45,
   "metadata": {},
   "outputs": [],
   "source": [
    "test_csv[\"Fare\"].fillna(value=test_csv[\"Fare\"].interpolate(), inplace=True)"
   ]
  },
  {
   "cell_type": "markdown",
   "metadata": {},
   "source": [
    "# Data Visualization"
   ]
  },
  {
   "cell_type": "code",
   "execution_count": 46,
   "metadata": {},
   "outputs": [
    {
     "data": {
      "text/plain": [
       "<AxesSubplot:>"
      ]
     },
     "execution_count": 46,
     "metadata": {},
     "output_type": "execute_result"
    },
    {
     "data": {
      "image/png": "[encoded data removed]",
      "text/plain": [
       "<Figure size 432x288 with 1 Axes>"
      ]
     },
     "metadata": {
      "needs_background": "light"
     },
     "output_type": "display_data"
    }
   ],
   "source": [
    "train_csv.Pclass.value_counts(normalize=True).plot(kind=\"bar\", alpha = 0.5)"
   ]
  },
  {
   "cell_type": "code",
   "execution_count": 47,
   "metadata": {},
   "outputs": [
    {
     "data": {
      "image/png": "[encoded data removed]",
      "text/plain": [
       "<Figure size 1440x720 with 12 Axes>"
      ]
     },
     "metadata": {
      "needs_background": "light"
     },
     "output_type": "display_data"
    }
   ],
   "source": [
    "train_csv.hist(bins=10, grid=False, alpha=0.5, figsize=(20, 10))\n",
    "plt.tight_layout()\n",
    "plt.show()"
   ]
  },
  {
   "cell_type": "code",
   "execution_count": 48,
   "metadata": {},
   "outputs": [
    {
     "data": {
      "image/png": "[encoded data removed]",
      "text/plain": [
       "<Figure size 720x720 with 2 Axes>"
      ]
     },
     "metadata": {
      "needs_background": "light"
     },
     "output_type": "display_data"
    }
   ],
   "source": [
    "corr=train_csv.corr()\n",
    "plt.figure(figsize=(10, 10))\n",
    "\n",
    "sns.heatmap(corr, vmax=.8, linewidths=0.01,\n",
    "            square=True,annot=True,cmap='YlGnBu',linecolor=\"white\")\n",
    "plt.title('Correlation between features');"
   ]
  },
  {
   "cell_type": "markdown",
   "metadata": {},
   "source": [
    "# Logistic Regression"
   ]
  },
  {
   "cell_type": "code",
   "execution_count": 49,
   "metadata": {},
   "outputs": [],
   "source": [
    "from sklearn.preprocessing import StandardScaler"
   ]
  },
  {
   "cell_type": "code",
   "execution_count": 50,
   "metadata": {},
   "outputs": [],
   "source": [
    "scalar = StandardScaler()"
   ]
  },
  {
   "cell_type": "code",
   "execution_count": 51,
   "metadata": {},
   "outputs": [
    {
     "data": {
      "text/plain": [
       "StandardScaler()"
      ]
     },
     "execution_count": 51,
     "metadata": {},
     "output_type": "execute_result"
    }
   ],
   "source": [
    "scalar.fit(train_csv)"
   ]
  },
  {
   "cell_type": "code",
   "execution_count": 52,
   "metadata": {},
   "outputs": [],
   "source": [
    "train_data = scalar.transform(train_csv)\n",
    "test_data = scalar.transform(test_csv)"
   ]
  },
  {
   "cell_type": "code",
   "execution_count": 53,
   "metadata": {},
   "outputs": [],
   "source": [
    "from sklearn.linear_model import LogisticRegression"
   ]
  },
  {
   "cell_type": "code",
   "execution_count": 54,
   "metadata": {},
   "outputs": [],
   "source": [
    "from sklearn.model_selection import GridSearchCV"
   ]
  },
  {
   "cell_type": "code",
   "execution_count": 55,
   "metadata": {},
   "outputs": [],
   "source": [
    "lr_clf = LogisticRegression()"
   ]
  },
  {
   "cell_type": "code",
   "execution_count": 56,
   "metadata": {},
   "outputs": [
    {
     "data": {
      "text/plain": [
       "LogisticRegression()"
      ]
     },
     "execution_count": 56,
     "metadata": {},
     "output_type": "execute_result"
    }
   ],
   "source": [
    "lr_clf.fit(train_data, train_labels)"
   ]
  },
  {
   "cell_type": "code",
   "execution_count": 57,
   "metadata": {},
   "outputs": [],
   "source": [
    "lr_preds = lr_clf.predict(test_data)"
   ]
  },
  {
   "cell_type": "code",
   "execution_count": 58,
   "metadata": {},
   "outputs": [],
   "source": [
    "lr_data = {\"PassengerId\":test_passenger_vals, \"Survived\":lr_preds}\n",
    "lr_sub = pd.DataFrame(lr_data, columns=[\"PassengerId\", \"Survived\"])\n",
    "lr_sub.set_index(\"PassengerId\", inplace=True)\n",
    "lr_sub.to_csv(r'C:\\Users\\Vicky\\Desktop\\Projects\\Titanic\\LR_Submission.csv')"
   ]
  },
  {
   "cell_type": "code",
   "execution_count": 59,
   "metadata": {},
   "outputs": [],
   "source": [
    "lr_grid={\"C\":np.logspace(-3,3,7), \"penalty\":[\"l1\",\"l2\"]}"
   ]
  },
  {
   "cell_type": "code",
   "execution_count": 60,
   "metadata": {},
   "outputs": [
    {
     "name": "stderr",
     "output_type": "stream",
     "text": [
      "c:\\users\\vicky\\appdata\\local\\programs\\python\\python37\\lib\\site-packages\\sklearn\\model_selection\\_validation.py:552: FitFailedWarning: Estimator fit failed. The score on this train-test partition for these parameters will be set to nan. Details: \n",
      "Traceback (most recent call last):\n",
      "  File \"c:\\users\\vicky\\appdata\\local\\programs\\python\\python37\\lib\\site-packages\\sklearn\\model_selection\\_validation.py\", line 531, in _fit_and_score\n",
      "    estimator.fit(X_train, y_train, **fit_params)\n",
      "  File \"c:\\users\\vicky\\appdata\\local\\programs\\python\\python37\\lib\\site-packages\\sklearn\\linear_model\\_logistic.py\", line 1304, in fit\n",
      "    solver = _check_solver(self.solver, self.penalty, self.dual)\n",
      "  File \"c:\\users\\vicky\\appdata\\local\\programs\\python\\python37\\lib\\site-packages\\sklearn\\linear_model\\_logistic.py\", line 443, in _check_solver\n",
      "    \"got %s penalty.\" % (solver, penalty))\n",
      "ValueError: Solver lbfgs supports only 'l2' or 'none' penalties, got l1 penalty.\n",
      "\n",
      "  FitFailedWarning)\n",
      "c:\\users\\vicky\\appdata\\local\\programs\\python\\python37\\lib\\site-packages\\sklearn\\model_selection\\_validation.py:552: FitFailedWarning: Estimator fit failed. The score on this train-test partition for these parameters will be set to nan. Details: \n",
      "Traceback (most recent call last):\n",
      "  File \"c:\\users\\vicky\\appdata\\local\\programs\\python\\python37\\lib\\site-packages\\sklearn\\model_selection\\_validation.py\", line 531, in _fit_and_score\n",
      "    estimator.fit(X_train, y_train, **fit_params)\n",
      "  File \"c:\\users\\vicky\\appdata\\local\\programs\\python\\python37\\lib\\site-packages\\sklearn\\linear_model\\_logistic.py\", line 1304, in fit\n",
      "    solver = _check_solver(self.solver, self.penalty, self.dual)\n",
      "  File \"c:\\users\\vicky\\appdata\\local\\programs\\python\\python37\\lib\\site-packages\\sklearn\\linear_model\\_logistic.py\", line 443, in _check_solver\n",
      "    \"got %s penalty.\" % (solver, penalty))\n",
      "ValueError: Solver lbfgs supports only 'l2' or 'none' penalties, got l1 penalty.\n",
      "\n",
      "  FitFailedWarning)\n",
      "c:\\users\\vicky\\appdata\\local\\programs\\python\\python37\\lib\\site-packages\\sklearn\\model_selection\\_validation.py:552: FitFailedWarning: Estimator fit failed. The score on this train-test partition for these parameters will be set to nan. Details: \n",
      "Traceback (most recent call last):\n",
      "  File \"c:\\users\\vicky\\appdata\\local\\programs\\python\\python37\\lib\\site-packages\\sklearn\\model_selection\\_validation.py\", line 531, in _fit_and_score\n",
      "    estimator.fit(X_train, y_train, **fit_params)\n",
      "  File \"c:\\users\\vicky\\appdata\\local\\programs\\python\\python37\\lib\\site-packages\\sklearn\\linear_model\\_logistic.py\", line 1304, in fit\n",
      "    solver = _check_solver(self.solver, self.penalty, self.dual)\n",
      "  File \"c:\\users\\vicky\\appdata\\local\\programs\\python\\python37\\lib\\site-packages\\sklearn\\linear_model\\_logistic.py\", line 443, in _check_solver\n",
      "    \"got %s penalty.\" % (solver, penalty))\n",
      "ValueError: Solver lbfgs supports only 'l2' or 'none' penalties, got l1 penalty.\n",
      "\n",
      "  FitFailedWarning)\n",
      "c:\\users\\vicky\\appdata\\local\\programs\\python\\python37\\lib\\site-packages\\sklearn\\model_selection\\_validation.py:552: FitFailedWarning: Estimator fit failed. The score on this train-test partition for these parameters will be set to nan. Details: \n",
      "Traceback (most recent call last):\n",
      "  File \"c:\\users\\vicky\\appdata\\local\\programs\\python\\python37\\lib\\site-packages\\sklearn\\model_selection\\_validation.py\", line 531, in _fit_and_score\n",
      "    estimator.fit(X_train, y_train, **fit_params)\n",
      "  File \"c:\\users\\vicky\\appdata\\local\\programs\\python\\python37\\lib\\site-packages\\sklearn\\linear_model\\_logistic.py\", line 1304, in fit\n",
      "    solver = _check_solver(self.solver, self.penalty, self.dual)\n",
      "  File \"c:\\users\\vicky\\appdata\\local\\programs\\python\\python37\\lib\\site-packages\\sklearn\\linear_model\\_logistic.py\", line 443, in _check_solver\n",
      "    \"got %s penalty.\" % (solver, penalty))\n",
      "ValueError: Solver lbfgs supports only 'l2' or 'none' penalties, got l1 penalty.\n",
      "\n",
      "  FitFailedWarning)\n",
      "c:\\users\\vicky\\appdata\\local\\programs\\python\\python37\\lib\\site-packages\\sklearn\\model_selection\\_validation.py:552: FitFailedWarning: Estimator fit failed. The score on this train-test partition for these parameters will be set to nan. Details: \n",
      "Traceback (most recent call last):\n",
      "  File \"c:\\users\\vicky\\appdata\\local\\programs\\python\\python37\\lib\\site-packages\\sklearn\\model_selection\\_validation.py\", line 531, in _fit_and_score\n",
      "    estimator.fit(X_train, y_train, **fit_params)\n",
      "  File \"c:\\users\\vicky\\appdata\\local\\programs\\python\\python37\\lib\\site-packages\\sklearn\\linear_model\\_logistic.py\", line 1304, in fit\n",
      "    solver = _check_solver(self.solver, self.penalty, self.dual)\n",
      "  File \"c:\\users\\vicky\\appdata\\local\\programs\\python\\python37\\lib\\site-packages\\sklearn\\linear_model\\_logistic.py\", line 443, in _check_solver\n",
      "    \"got %s penalty.\" % (solver, penalty))\n",
      "ValueError: Solver lbfgs supports only 'l2' or 'none' penalties, got l1 penalty.\n",
      "\n",
      "  FitFailedWarning)\n",
      "c:\\users\\vicky\\appdata\\local\\programs\\python\\python37\\lib\\site-packages\\sklearn\\model_selection\\_validation.py:552: FitFailedWarning: Estimator fit failed. The score on this train-test partition for these parameters will be set to nan. Details: \n",
      "Traceback (most recent call last):\n",
      "  File \"c:\\users\\vicky\\appdata\\local\\programs\\python\\python37\\lib\\site-packages\\sklearn\\model_selection\\_validation.py\", line 531, in _fit_and_score\n",
      "    estimator.fit(X_train, y_train, **fit_params)\n",
      "  File \"c:\\users\\vicky\\appdata\\local\\programs\\python\\python37\\lib\\site-packages\\sklearn\\linear_model\\_logistic.py\", line 1304, in fit\n",
      "    solver = _check_solver(self.solver, self.penalty, self.dual)\n",
      "  File \"c:\\users\\vicky\\appdata\\local\\programs\\python\\python37\\lib\\site-packages\\sklearn\\linear_model\\_logistic.py\", line 443, in _check_solver\n",
      "    \"got %s penalty.\" % (solver, penalty))\n",
      "ValueError: Solver lbfgs supports only 'l2' or 'none' penalties, got l1 penalty.\n",
      "\n",
      "  FitFailedWarning)\n",
      "c:\\users\\vicky\\appdata\\local\\programs\\python\\python37\\lib\\site-packages\\sklearn\\model_selection\\_validation.py:552: FitFailedWarning: Estimator fit failed. The score on this train-test partition for these parameters will be set to nan. Details: \n",
      "Traceback (most recent call last):\n",
      "  File \"c:\\users\\vicky\\appdata\\local\\programs\\python\\python37\\lib\\site-packages\\sklearn\\model_selection\\_validation.py\", line 531, in _fit_and_score\n",
      "    estimator.fit(X_train, y_train, **fit_params)\n",
      "  File \"c:\\users\\vicky\\appdata\\local\\programs\\python\\python37\\lib\\site-packages\\sklearn\\linear_model\\_logistic.py\", line 1304, in fit\n",
      "    solver = _check_solver(self.solver, self.penalty, self.dual)\n",
      "  File \"c:\\users\\vicky\\appdata\\local\\programs\\python\\python37\\lib\\site-packages\\sklearn\\linear_model\\_logistic.py\", line 443, in _check_solver\n",
      "    \"got %s penalty.\" % (solver, penalty))\n",
      "ValueError: Solver lbfgs supports only 'l2' or 'none' penalties, got l1 penalty.\n",
      "\n",
      "  FitFailedWarning)\n"
     ]
    },
    {
     "data": {
      "text/plain": [
       "GridSearchCV(cv=10, estimator=LogisticRegression(),\n",
       "             param_grid={'C': array([1.e-03, 1.e-02, 1.e-01, 1.e+00, 1.e+01, 1.e+02, 1.e+03]),\n",
       "                         'penalty': ['l1', 'l2']})"
      ]
     },
     "execution_count": 60,
     "metadata": {},
     "output_type": "execute_result"
    }
   ],
   "source": [
    "logreg_cv = GridSearchCV(lr_clf,lr_grid,cv=10)\n",
    "logreg_cv.fit(train_data, train_labels)"
   ]
  },
  {
   "cell_type": "code",
   "execution_count": 61,
   "metadata": {},
   "outputs": [],
   "source": [
    "penalty = ['l1', 'l2']\n",
    "C = np.logspace(0, 4, 10)\n",
    "hyperparameters = dict(C=C, penalty=penalty)\n",
    "logclf = GridSearchCV(lr_clf, hyperparameters, cv=5, verbose=1)"
   ]
  },
  {
   "cell_type": "code",
   "execution_count": 62,
   "metadata": {},
   "outputs": [
    {
     "name": "stderr",
     "output_type": "stream",
     "text": [
      "[Parallel(n_jobs=1)]: Using backend SequentialBackend with 1 concurrent workers.\n",
      "c:\\users\\vicky\\appdata\\local\\programs\\python\\python37\\lib\\site-packages\\sklearn\\model_selection\\_validation.py:552: FitFailedWarning: Estimator fit failed. The score on this train-test partition for these parameters will be set to nan. Details: \n",
      "Traceback (most recent call last):\n",
      "  File \"c:\\users\\vicky\\appdata\\local\\programs\\python\\python37\\lib\\site-packages\\sklearn\\model_selection\\_validation.py\", line 531, in _fit_and_score\n",
      "    estimator.fit(X_train, y_train, **fit_params)\n",
      "  File \"c:\\users\\vicky\\appdata\\local\\programs\\python\\python37\\lib\\site-packages\\sklearn\\linear_model\\_logistic.py\", line 1304, in fit\n",
      "    solver = _check_solver(self.solver, self.penalty, self.dual)\n",
      "  File \"c:\\users\\vicky\\appdata\\local\\programs\\python\\python37\\lib\\site-packages\\sklearn\\linear_model\\_logistic.py\", line 443, in _check_solver\n",
      "    \"got %s penalty.\" % (solver, penalty))\n",
      "ValueError: Solver lbfgs supports only 'l2' or 'none' penalties, got l1 penalty.\n",
      "\n",
      "  FitFailedWarning)\n",
      "c:\\users\\vicky\\appdata\\local\\programs\\python\\python37\\lib\\site-packages\\sklearn\\model_selection\\_validation.py:552: FitFailedWarning: Estimator fit failed. The score on this train-test partition for these parameters will be set to nan. Details: \n",
      "Traceback (most recent call last):\n",
      "  File \"c:\\users\\vicky\\appdata\\local\\programs\\python\\python37\\lib\\site-packages\\sklearn\\model_selection\\_validation.py\", line 531, in _fit_and_score\n",
      "    estimator.fit(X_train, y_train, **fit_params)\n",
      "  File \"c:\\users\\vicky\\appdata\\local\\programs\\python\\python37\\lib\\site-packages\\sklearn\\linear_model\\_logistic.py\", line 1304, in fit\n",
      "    solver = _check_solver(self.solver, self.penalty, self.dual)\n",
      "  File \"c:\\users\\vicky\\appdata\\local\\programs\\python\\python37\\lib\\site-packages\\sklearn\\linear_model\\_logistic.py\", line 443, in _check_solver\n",
      "    \"got %s penalty.\" % (solver, penalty))\n",
      "ValueError: Solver lbfgs supports only 'l2' or 'none' penalties, got l1 penalty.\n",
      "\n",
      "  FitFailedWarning)\n"
     ]
    },
    {
     "name": "stdout",
     "output_type": "stream",
     "text": [
      "Fitting 5 folds for each of 20 candidates, totalling 100 fits\n"
     ]
    },
    {
     "name": "stderr",
     "output_type": "stream",
     "text": [
      "c:\\users\\vicky\\appdata\\local\\programs\\python\\python37\\lib\\site-packages\\sklearn\\model_selection\\_validation.py:552: FitFailedWarning: Estimator fit failed. The score on this train-test partition for these parameters will be set to nan. Details: \n",
      "Traceback (most recent call last):\n",
      "  File \"c:\\users\\vicky\\appdata\\local\\programs\\python\\python37\\lib\\site-packages\\sklearn\\model_selection\\_validation.py\", line 531, in _fit_and_score\n",
      "    estimator.fit(X_train, y_train, **fit_params)\n",
      "  File \"c:\\users\\vicky\\appdata\\local\\programs\\python\\python37\\lib\\site-packages\\sklearn\\linear_model\\_logistic.py\", line 1304, in fit\n",
      "    solver = _check_solver(self.solver, self.penalty, self.dual)\n",
      "  File \"c:\\users\\vicky\\appdata\\local\\programs\\python\\python37\\lib\\site-packages\\sklearn\\linear_model\\_logistic.py\", line 443, in _check_solver\n",
      "    \"got %s penalty.\" % (solver, penalty))\n",
      "ValueError: Solver lbfgs supports only 'l2' or 'none' penalties, got l1 penalty.\n",
      "\n",
      "  FitFailedWarning)\n",
      "c:\\users\\vicky\\appdata\\local\\programs\\python\\python37\\lib\\site-packages\\sklearn\\model_selection\\_validation.py:552: FitFailedWarning: Estimator fit failed. The score on this train-test partition for these parameters will be set to nan. Details: \n",
      "Traceback (most recent call last):\n",
      "  File \"c:\\users\\vicky\\appdata\\local\\programs\\python\\python37\\lib\\site-packages\\sklearn\\model_selection\\_validation.py\", line 531, in _fit_and_score\n",
      "    estimator.fit(X_train, y_train, **fit_params)\n",
      "  File \"c:\\users\\vicky\\appdata\\local\\programs\\python\\python37\\lib\\site-packages\\sklearn\\linear_model\\_logistic.py\", line 1304, in fit\n",
      "    solver = _check_solver(self.solver, self.penalty, self.dual)\n",
      "  File \"c:\\users\\vicky\\appdata\\local\\programs\\python\\python37\\lib\\site-packages\\sklearn\\linear_model\\_logistic.py\", line 443, in _check_solver\n",
      "    \"got %s penalty.\" % (solver, penalty))\n",
      "ValueError: Solver lbfgs supports only 'l2' or 'none' penalties, got l1 penalty.\n",
      "\n",
      "  FitFailedWarning)\n",
      "c:\\users\\vicky\\appdata\\local\\programs\\python\\python37\\lib\\site-packages\\sklearn\\model_selection\\_validation.py:552: FitFailedWarning: Estimator fit failed. The score on this train-test partition for these parameters will be set to nan. Details: \n",
      "Traceback (most recent call last):\n",
      "  File \"c:\\users\\vicky\\appdata\\local\\programs\\python\\python37\\lib\\site-packages\\sklearn\\model_selection\\_validation.py\", line 531, in _fit_and_score\n",
      "    estimator.fit(X_train, y_train, **fit_params)\n",
      "  File \"c:\\users\\vicky\\appdata\\local\\programs\\python\\python37\\lib\\site-packages\\sklearn\\linear_model\\_logistic.py\", line 1304, in fit\n",
      "    solver = _check_solver(self.solver, self.penalty, self.dual)\n",
      "  File \"c:\\users\\vicky\\appdata\\local\\programs\\python\\python37\\lib\\site-packages\\sklearn\\linear_model\\_logistic.py\", line 443, in _check_solver\n",
      "    \"got %s penalty.\" % (solver, penalty))\n",
      "ValueError: Solver lbfgs supports only 'l2' or 'none' penalties, got l1 penalty.\n",
      "\n",
      "  FitFailedWarning)\n",
      "c:\\users\\vicky\\appdata\\local\\programs\\python\\python37\\lib\\site-packages\\sklearn\\model_selection\\_validation.py:552: FitFailedWarning: Estimator fit failed. The score on this train-test partition for these parameters will be set to nan. Details: \n",
      "Traceback (most recent call last):\n",
      "  File \"c:\\users\\vicky\\appdata\\local\\programs\\python\\python37\\lib\\site-packages\\sklearn\\model_selection\\_validation.py\", line 531, in _fit_and_score\n",
      "    estimator.fit(X_train, y_train, **fit_params)\n",
      "  File \"c:\\users\\vicky\\appdata\\local\\programs\\python\\python37\\lib\\site-packages\\sklearn\\linear_model\\_logistic.py\", line 1304, in fit\n",
      "    solver = _check_solver(self.solver, self.penalty, self.dual)\n",
      "  File \"c:\\users\\vicky\\appdata\\local\\programs\\python\\python37\\lib\\site-packages\\sklearn\\linear_model\\_logistic.py\", line 443, in _check_solver\n",
      "    \"got %s penalty.\" % (solver, penalty))\n",
      "ValueError: Solver lbfgs supports only 'l2' or 'none' penalties, got l1 penalty.\n",
      "\n",
      "  FitFailedWarning)\n",
      "c:\\users\\vicky\\appdata\\local\\programs\\python\\python37\\lib\\site-packages\\sklearn\\model_selection\\_validation.py:552: FitFailedWarning: Estimator fit failed. The score on this train-test partition for these parameters will be set to nan. Details: \n",
      "Traceback (most recent call last):\n",
      "  File \"c:\\users\\vicky\\appdata\\local\\programs\\python\\python37\\lib\\site-packages\\sklearn\\model_selection\\_validation.py\", line 531, in _fit_and_score\n",
      "    estimator.fit(X_train, y_train, **fit_params)\n",
      "  File \"c:\\users\\vicky\\appdata\\local\\programs\\python\\python37\\lib\\site-packages\\sklearn\\linear_model\\_logistic.py\", line 1304, in fit\n",
      "    solver = _check_solver(self.solver, self.penalty, self.dual)\n",
      "  File \"c:\\users\\vicky\\appdata\\local\\programs\\python\\python37\\lib\\site-packages\\sklearn\\linear_model\\_logistic.py\", line 443, in _check_solver\n",
      "    \"got %s penalty.\" % (solver, penalty))\n",
      "ValueError: Solver lbfgs supports only 'l2' or 'none' penalties, got l1 penalty.\n",
      "\n",
      "  FitFailedWarning)\n",
      "c:\\users\\vicky\\appdata\\local\\programs\\python\\python37\\lib\\site-packages\\sklearn\\model_selection\\_validation.py:552: FitFailedWarning: Estimator fit failed. The score on this train-test partition for these parameters will be set to nan. Details: \n",
      "Traceback (most recent call last):\n",
      "  File \"c:\\users\\vicky\\appdata\\local\\programs\\python\\python37\\lib\\site-packages\\sklearn\\model_selection\\_validation.py\", line 531, in _fit_and_score\n",
      "    estimator.fit(X_train, y_train, **fit_params)\n",
      "  File \"c:\\users\\vicky\\appdata\\local\\programs\\python\\python37\\lib\\site-packages\\sklearn\\linear_model\\_logistic.py\", line 1304, in fit\n",
      "    solver = _check_solver(self.solver, self.penalty, self.dual)\n",
      "  File \"c:\\users\\vicky\\appdata\\local\\programs\\python\\python37\\lib\\site-packages\\sklearn\\linear_model\\_logistic.py\", line 443, in _check_solver\n",
      "    \"got %s penalty.\" % (solver, penalty))\n",
      "ValueError: Solver lbfgs supports only 'l2' or 'none' penalties, got l1 penalty.\n",
      "\n",
      "  FitFailedWarning)\n",
      "c:\\users\\vicky\\appdata\\local\\programs\\python\\python37\\lib\\site-packages\\sklearn\\model_selection\\_validation.py:552: FitFailedWarning: Estimator fit failed. The score on this train-test partition for these parameters will be set to nan. Details: \n",
      "Traceback (most recent call last):\n",
      "  File \"c:\\users\\vicky\\appdata\\local\\programs\\python\\python37\\lib\\site-packages\\sklearn\\model_selection\\_validation.py\", line 531, in _fit_and_score\n",
      "    estimator.fit(X_train, y_train, **fit_params)\n",
      "  File \"c:\\users\\vicky\\appdata\\local\\programs\\python\\python37\\lib\\site-packages\\sklearn\\linear_model\\_logistic.py\", line 1304, in fit\n",
      "    solver = _check_solver(self.solver, self.penalty, self.dual)\n",
      "  File \"c:\\users\\vicky\\appdata\\local\\programs\\python\\python37\\lib\\site-packages\\sklearn\\linear_model\\_logistic.py\", line 443, in _check_solver\n",
      "    \"got %s penalty.\" % (solver, penalty))\n",
      "ValueError: Solver lbfgs supports only 'l2' or 'none' penalties, got l1 penalty.\n",
      "\n",
      "  FitFailedWarning)\n",
      "c:\\users\\vicky\\appdata\\local\\programs\\python\\python37\\lib\\site-packages\\sklearn\\model_selection\\_validation.py:552: FitFailedWarning: Estimator fit failed. The score on this train-test partition for these parameters will be set to nan. Details: \n",
      "Traceback (most recent call last):\n",
      "  File \"c:\\users\\vicky\\appdata\\local\\programs\\python\\python37\\lib\\site-packages\\sklearn\\model_selection\\_validation.py\", line 531, in _fit_and_score\n",
      "    estimator.fit(X_train, y_train, **fit_params)\n",
      "  File \"c:\\users\\vicky\\appdata\\local\\programs\\python\\python37\\lib\\site-packages\\sklearn\\linear_model\\_logistic.py\", line 1304, in fit\n",
      "    solver = _check_solver(self.solver, self.penalty, self.dual)\n",
      "  File \"c:\\users\\vicky\\appdata\\local\\programs\\python\\python37\\lib\\site-packages\\sklearn\\linear_model\\_logistic.py\", line 443, in _check_solver\n",
      "    \"got %s penalty.\" % (solver, penalty))\n",
      "ValueError: Solver lbfgs supports only 'l2' or 'none' penalties, got l1 penalty.\n",
      "\n",
      "  FitFailedWarning)\n",
      "[Parallel(n_jobs=1)]: Done 100 out of 100 | elapsed:    0.4s finished\n"
     ]
    }
   ],
   "source": [
    "best_model = logclf.fit(train_data, train_labels)"
   ]
  },
  {
   "cell_type": "code",
   "execution_count": 63,
   "metadata": {},
   "outputs": [
    {
     "name": "stdout",
     "output_type": "stream",
     "text": [
      "Best Penalty: l2\n",
      "Best C: 2.7825594022071245\n"
     ]
    }
   ],
   "source": [
    "print('Best Penalty:', best_model.best_estimator_.get_params()['penalty'])\n",
    "print('Best C:', best_model.best_estimator_.get_params()['C'])"
   ]
  },
  {
   "cell_type": "code",
   "execution_count": 64,
   "metadata": {},
   "outputs": [],
   "source": [
    "best_preds = best_model.predict(test_data)"
   ]
  },
  {
   "cell_type": "code",
   "execution_count": 65,
   "metadata": {},
   "outputs": [],
   "source": [
    "best_data = {\"PassengerId\":test_passenger_vals, \"Survived\":best_preds}\n",
    "best_sub = pd.DataFrame(best_data, columns=[\"PassengerId\", \"Survived\"])\n",
    "best_sub.set_index(\"PassengerId\", inplace=True)\n",
    "best_sub.to_csv(r'C:\\Users\\Vicky\\Desktop\\Projects\\Titanic\\LR_Submission2.csv')"
   ]
  },
  {
   "cell_type": "code",
   "execution_count": 66,
   "metadata": {},
   "outputs": [
    {
     "name": "stdout",
     "output_type": "stream",
     "text": [
      "Best score: 0.825\n",
      "LogisticRegression(C=0.1)\n"
     ]
    }
   ],
   "source": [
    "print(\"Best score: %0.3f\" % logreg_cv.best_score_)\n",
    "print(logreg_cv.best_estimator_)"
   ]
  },
  {
   "cell_type": "code",
   "execution_count": 67,
   "metadata": {},
   "outputs": [],
   "source": [
    "lr_clfnew = LogisticRegression(C=0.1)"
   ]
  },
  {
   "cell_type": "code",
   "execution_count": 68,
   "metadata": {},
   "outputs": [
    {
     "data": {
      "text/plain": [
       "LogisticRegression(C=0.1)"
      ]
     },
     "execution_count": 68,
     "metadata": {},
     "output_type": "execute_result"
    }
   ],
   "source": [
    "lr_clfnew.fit(train_data, train_labels)"
   ]
  },
  {
   "cell_type": "code",
   "execution_count": 69,
   "metadata": {},
   "outputs": [],
   "source": [
    "lr_predsnew = lr_clfnew.predict(test_data)"
   ]
  },
  {
   "cell_type": "code",
   "execution_count": 70,
   "metadata": {},
   "outputs": [],
   "source": [
    "lr_datanew = {\"PassengerId\":test_passenger_vals, \"Survived\":lr_predsnew}\n",
    "lr_subnew = pd.DataFrame(lr_datanew, columns=[\"PassengerId\", \"Survived\"])\n",
    "lr_subnew.set_index(\"PassengerId\", inplace=True)\n",
    "lr_subnew.to_csv(r'C:\\Users\\Vicky\\Desktop\\Projects\\Titanic\\LR_Submission1.csv')"
   ]
  },
  {
   "cell_type": "markdown",
   "metadata": {},
   "source": [
    "# KNN Classifier"
   ]
  },
  {
   "cell_type": "code",
   "execution_count": 71,
   "metadata": {},
   "outputs": [],
   "source": [
    "from sklearn.neighbors import KNeighborsClassifier"
   ]
  },
  {
   "cell_type": "code",
   "execution_count": 72,
   "metadata": {},
   "outputs": [],
   "source": [
    "knn_classifier = KNeighborsClassifier(n_neighbors=5)"
   ]
  },
  {
   "cell_type": "code",
   "execution_count": 73,
   "metadata": {},
   "outputs": [
    {
     "data": {
      "text/plain": [
       "KNeighborsClassifier()"
      ]
     },
     "execution_count": 73,
     "metadata": {},
     "output_type": "execute_result"
    }
   ],
   "source": [
    "knn_classifier.fit(train_data, train_labels)"
   ]
  },
  {
   "cell_type": "code",
   "execution_count": 74,
   "metadata": {},
   "outputs": [],
   "source": [
    "preds = knn_classifier.predict(test_data)"
   ]
  },
  {
   "cell_type": "code",
   "execution_count": 75,
   "metadata": {},
   "outputs": [
    {
     "name": "stdout",
     "output_type": "stream",
     "text": [
      "418\n",
      "418\n"
     ]
    }
   ],
   "source": [
    "print(len(test_passenger_vals))\n",
    "print(len(preds))"
   ]
  },
  {
   "cell_type": "code",
   "execution_count": 76,
   "metadata": {},
   "outputs": [],
   "source": [
    "data = {\"PassengerId\":test_passenger_vals, \"Survived\":preds}\n",
    "sub = pd.DataFrame(data, columns=[\"PassengerId\", \"Survived\"])\n",
    "sub.set_index(\"PassengerId\", inplace=True)"
   ]
  },
  {
   "cell_type": "code",
   "execution_count": 77,
   "metadata": {},
   "outputs": [
    {
     "data": {
      "text/html": [
       "<div>\n",
       "<style scoped>\n",
       "    .dataframe tbody tr th:only-of-type {\n",
       "        vertical-align: middle;\n",
       "    }\n",
       "\n",
       "    .dataframe tbody tr th {\n",
       "        vertical-align: top;\n",
       "    }\n",
       "\n",
       "    .dataframe thead th {\n",
       "        text-align: right;\n",
       "    }\n",
       "</style>\n",
       "<table border=\"1\" class=\"dataframe\">\n",
       "  <thead>\n",
       "    <tr style=\"text-align: right;\">\n",
       "      <th></th>\n",
       "      <th>Survived</th>\n",
       "    </tr>\n",
       "    <tr>\n",
       "      <th>PassengerId</th>\n",
       "      <th></th>\n",
       "    </tr>\n",
       "  </thead>\n",
       "  <tbody>\n",
       "    <tr>\n",
       "      <th>892</th>\n",
       "      <td>0</td>\n",
       "    </tr>\n",
       "    <tr>\n",
       "      <th>893</th>\n",
       "      <td>0</td>\n",
       "    </tr>\n",
       "    <tr>\n",
       "      <th>894</th>\n",
       "      <td>0</td>\n",
       "    </tr>\n",
       "    <tr>\n",
       "      <th>895</th>\n",
       "      <td>1</td>\n",
       "    </tr>\n",
       "    <tr>\n",
       "      <th>896</th>\n",
       "      <td>0</td>\n",
       "    </tr>\n",
       "    <tr>\n",
       "      <th>...</th>\n",
       "      <td>...</td>\n",
       "    </tr>\n",
       "    <tr>\n",
       "      <th>1305</th>\n",
       "      <td>0</td>\n",
       "    </tr>\n",
       "    <tr>\n",
       "      <th>1306</th>\n",
       "      <td>1</td>\n",
       "    </tr>\n",
       "    <tr>\n",
       "      <th>1307</th>\n",
       "      <td>0</td>\n",
       "    </tr>\n",
       "    <tr>\n",
       "      <th>1308</th>\n",
       "      <td>0</td>\n",
       "    </tr>\n",
       "    <tr>\n",
       "      <th>1309</th>\n",
       "      <td>1</td>\n",
       "    </tr>\n",
       "  </tbody>\n",
       "</table>\n",
       "<p>418 rows × 1 columns</p>\n",
       "</div>"
      ],
      "text/plain": [
       "             Survived\n",
       "PassengerId          \n",
       "892                 0\n",
       "893                 0\n",
       "894                 0\n",
       "895                 1\n",
       "896                 0\n",
       "...               ...\n",
       "1305                0\n",
       "1306                1\n",
       "1307                0\n",
       "1308                0\n",
       "1309                1\n",
       "\n",
       "[418 rows x 1 columns]"
      ]
     },
     "execution_count": 77,
     "metadata": {},
     "output_type": "execute_result"
    }
   ],
   "source": [
    "sub"
   ]
  },
  {
   "cell_type": "code",
   "execution_count": 78,
   "metadata": {},
   "outputs": [],
   "source": [
    "sub.to_csv(r'C:\\Users\\Vicky\\Desktop\\Projects\\Titanic\\Submission.csv')"
   ]
  },
  {
   "cell_type": "markdown",
   "metadata": {},
   "source": [
    "# Decision Trees Classifier"
   ]
  },
  {
   "cell_type": "code",
   "execution_count": 79,
   "metadata": {},
   "outputs": [],
   "source": [
    "from sklearn.tree import DecisionTreeClassifier"
   ]
  },
  {
   "cell_type": "code",
   "execution_count": 80,
   "metadata": {},
   "outputs": [],
   "source": [
    "Dt_classifier = DecisionTreeClassifier()"
   ]
  },
  {
   "cell_type": "code",
   "execution_count": 81,
   "metadata": {},
   "outputs": [
    {
     "data": {
      "text/plain": [
       "DecisionTreeClassifier()"
      ]
     },
     "execution_count": 81,
     "metadata": {},
     "output_type": "execute_result"
    }
   ],
   "source": [
    "Dt_classifier.fit(train_data, train_labels)"
   ]
  },
  {
   "cell_type": "code",
   "execution_count": 82,
   "metadata": {},
   "outputs": [],
   "source": [
    "decision_preds = Dt_classifier.predict(test_data)"
   ]
  },
  {
   "cell_type": "code",
   "execution_count": 83,
   "metadata": {},
   "outputs": [
    {
     "name": "stdout",
     "output_type": "stream",
     "text": [
      "<class 'numpy.ndarray'>\n"
     ]
    }
   ],
   "source": [
    "print(type(decision_preds))"
   ]
  },
  {
   "cell_type": "code",
   "execution_count": 84,
   "metadata": {},
   "outputs": [],
   "source": [
    "dec_data = {\"PassengerId\":test_passenger_vals, \"Survived\":decision_preds}\n",
    "dec_sub = pd.DataFrame(dec_data, columns=[\"PassengerId\", \"Survived\"])\n",
    "dec_sub.set_index(\"PassengerId\", inplace=True)"
   ]
  },
  {
   "cell_type": "code",
   "execution_count": 85,
   "metadata": {},
   "outputs": [
    {
     "data": {
      "text/html": [
       "<div>\n",
       "<style scoped>\n",
       "    .dataframe tbody tr th:only-of-type {\n",
       "        vertical-align: middle;\n",
       "    }\n",
       "\n",
       "    .dataframe tbody tr th {\n",
       "        vertical-align: top;\n",
       "    }\n",
       "\n",
       "    .dataframe thead th {\n",
       "        text-align: right;\n",
       "    }\n",
       "</style>\n",
       "<table border=\"1\" class=\"dataframe\">\n",
       "  <thead>\n",
       "    <tr style=\"text-align: right;\">\n",
       "      <th></th>\n",
       "      <th>Survived</th>\n",
       "    </tr>\n",
       "    <tr>\n",
       "      <th>PassengerId</th>\n",
       "      <th></th>\n",
       "    </tr>\n",
       "  </thead>\n",
       "  <tbody>\n",
       "    <tr>\n",
       "      <th>892</th>\n",
       "      <td>0</td>\n",
       "    </tr>\n",
       "    <tr>\n",
       "      <th>893</th>\n",
       "      <td>0</td>\n",
       "    </tr>\n",
       "    <tr>\n",
       "      <th>894</th>\n",
       "      <td>1</td>\n",
       "    </tr>\n",
       "    <tr>\n",
       "      <th>895</th>\n",
       "      <td>1</td>\n",
       "    </tr>\n",
       "    <tr>\n",
       "      <th>896</th>\n",
       "      <td>1</td>\n",
       "    </tr>\n",
       "    <tr>\n",
       "      <th>...</th>\n",
       "      <td>...</td>\n",
       "    </tr>\n",
       "    <tr>\n",
       "      <th>1305</th>\n",
       "      <td>0</td>\n",
       "    </tr>\n",
       "    <tr>\n",
       "      <th>1306</th>\n",
       "      <td>1</td>\n",
       "    </tr>\n",
       "    <tr>\n",
       "      <th>1307</th>\n",
       "      <td>0</td>\n",
       "    </tr>\n",
       "    <tr>\n",
       "      <th>1308</th>\n",
       "      <td>0</td>\n",
       "    </tr>\n",
       "    <tr>\n",
       "      <th>1309</th>\n",
       "      <td>0</td>\n",
       "    </tr>\n",
       "  </tbody>\n",
       "</table>\n",
       "<p>418 rows × 1 columns</p>\n",
       "</div>"
      ],
      "text/plain": [
       "             Survived\n",
       "PassengerId          \n",
       "892                 0\n",
       "893                 0\n",
       "894                 1\n",
       "895                 1\n",
       "896                 1\n",
       "...               ...\n",
       "1305                0\n",
       "1306                1\n",
       "1307                0\n",
       "1308                0\n",
       "1309                0\n",
       "\n",
       "[418 rows x 1 columns]"
      ]
     },
     "execution_count": 85,
     "metadata": {},
     "output_type": "execute_result"
    }
   ],
   "source": [
    "dec_sub"
   ]
  },
  {
   "cell_type": "code",
   "execution_count": 86,
   "metadata": {},
   "outputs": [],
   "source": [
    "dec_sub.to_csv(r'C:\\Users\\Vicky\\Desktop\\Projects\\Titanic\\Decision_Submission.csv')"
   ]
  },
  {
   "cell_type": "markdown",
   "metadata": {},
   "source": [
    "# Artificial Neural Network"
   ]
  },
  {
   "cell_type": "code",
   "execution_count": 87,
   "metadata": {},
   "outputs": [],
   "source": [
    "import tensorflow as tf"
   ]
  },
  {
   "cell_type": "code",
   "execution_count": 88,
   "metadata": {},
   "outputs": [],
   "source": [
    "from keras import Sequential\n",
    "from keras.layers import BatchNormalization, Dropout, Dense"
   ]
  },
  {
   "cell_type": "code",
   "execution_count": 89,
   "metadata": {},
   "outputs": [],
   "source": [
    "from keras.optimizers import Adam"
   ]
  },
  {
   "cell_type": "code",
   "execution_count": 90,
   "metadata": {},
   "outputs": [],
   "source": [
    "opt = Adam(learning_rate=0.0001)"
   ]
  },
  {
   "cell_type": "code",
   "execution_count": 91,
   "metadata": {},
   "outputs": [],
   "source": [
    "model = Sequential()"
   ]
  },
  {
   "cell_type": "code",
   "execution_count": 92,
   "metadata": {},
   "outputs": [
    {
     "name": "stdout",
     "output_type": "stream",
     "text": [
      "Model: \"sequential\"\n",
      "_________________________________________________________________\n",
      "Layer (type)                 Output Shape              Param #   \n",
      "=================================================================\n",
      "dense (Dense)                (None, 50)                600       \n",
      "_________________________________________________________________\n",
      "dense_1 (Dense)              (None, 100)               5100      \n",
      "_________________________________________________________________\n",
      "dense_2 (Dense)              (None, 200)               20200     \n",
      "_________________________________________________________________\n",
      "dense_3 (Dense)              (None, 300)               60300     \n",
      "_________________________________________________________________\n",
      "dense_4 (Dense)              (None, 500)               150500    \n",
      "_________________________________________________________________\n",
      "dense_5 (Dense)              (None, 600)               300600    \n",
      "_________________________________________________________________\n",
      "dense_6 (Dense)              (None, 800)               480800    \n",
      "_________________________________________________________________\n",
      "dense_7 (Dense)              (None, 1000)              801000    \n",
      "_________________________________________________________________\n",
      "dense_8 (Dense)              (None, 600)               600600    \n",
      "_________________________________________________________________\n",
      "dense_9 (Dense)              (None, 400)               240400    \n",
      "_________________________________________________________________\n",
      "dense_10 (Dense)             (None, 200)               80200     \n",
      "_________________________________________________________________\n",
      "dense_11 (Dense)             (None, 100)               20100     \n",
      "_________________________________________________________________\n",
      "dense_12 (Dense)             (None, 50)                5050      \n",
      "_________________________________________________________________\n",
      "dense_13 (Dense)             (None, 2)                 102       \n",
      "=================================================================\n",
      "Total params: 2,765,552\n",
      "Trainable params: 2,765,552\n",
      "Non-trainable params: 0\n",
      "_________________________________________________________________\n"
     ]
    }
   ],
   "source": [
    "model.add(Dense(50, activation='relu', input_shape=(11,)))\n",
    "model.add(Dense(100, activation='relu'))\n",
    "model.add(Dense(200, activation='relu'))\n",
    "model.add(Dense(300, activation='relu'))\n",
    "model.add(Dense(500, activation='relu'))\n",
    "model.add(Dense(600, activation='relu'))\n",
    "model.add(Dense(800, activation='relu'))\n",
    "model.add(Dense(1000, activation='relu'))\n",
    "model.add(Dense(600, activation='relu'))\n",
    "model.add(Dense(400, activation='relu'))\n",
    "model.add(Dense(200, activation='relu'))\n",
    "model.add(Dense(100, activation='relu'))\n",
    "model.add(Dense(50, activation='relu'))\n",
    "model.add(Dense(2, activation='softmax'))\n",
    "model.summary()"
   ]
  },
  {
   "cell_type": "code",
   "execution_count": 93,
   "metadata": {},
   "outputs": [],
   "source": [
    "model.compile(loss='sparse_categorical_crossentropy', optimizer=opt, metrics=['accuracy'])"
   ]
  },
  {
   "cell_type": "code",
   "execution_count": 94,
   "metadata": {},
   "outputs": [],
   "source": [
    "features = train_csv.iloc[:,:]\n",
    "labels = train_labels"
   ]
  },
  {
   "cell_type": "code",
   "execution_count": 95,
   "metadata": {},
   "outputs": [],
   "source": [
    "X_train = features\n",
    "Y_train = np.ravel(train_labels)"
   ]
  },
  {
   "cell_type": "code",
   "execution_count": 96,
   "metadata": {},
   "outputs": [],
   "source": [
    "X_test = test_data"
   ]
  },
  {
   "cell_type": "code",
   "execution_count": 97,
   "metadata": {},
   "outputs": [
    {
     "name": "stdout",
     "output_type": "stream",
     "text": [
      "(891, 11)\n",
      "(418, 11)\n"
     ]
    }
   ],
   "source": [
    "print(X_train.shape)\n",
    "print(X_test.shape)"
   ]
  },
  {
   "cell_type": "code",
   "execution_count": 98,
   "metadata": {},
   "outputs": [],
   "source": [
    "from sklearn.preprocessing import MinMaxScaler\n",
    "std_scalar = MinMaxScaler()"
   ]
  },
  {
   "cell_type": "code",
   "execution_count": 99,
   "metadata": {},
   "outputs": [
    {
     "data": {
      "text/plain": [
       "MinMaxScaler()"
      ]
     },
     "execution_count": 99,
     "metadata": {},
     "output_type": "execute_result"
    }
   ],
   "source": [
    "std_scalar.fit(X_train)"
   ]
  },
  {
   "cell_type": "code",
   "execution_count": 100,
   "metadata": {},
   "outputs": [
    {
     "data": {
      "text/plain": [
       "array([[-8.63113781e-02,  7.37695132e-01, -6.35225126e-04, ...,\n",
       "         8.50531749e-01, -5.06655284e-01, -2.16802964e-01],\n",
       "       [-8.63113781e-02, -1.35557354e+00,  1.14523520e-02, ...,\n",
       "        -1.17573506e+00, -5.06655284e-01, -2.16802964e-01],\n",
       "       [-6.84682421e-01,  7.37695132e-01,  2.59574445e-02, ...,\n",
       "         8.50531749e-01, -5.06655284e-01, -2.16802964e-01],\n",
       "       ...,\n",
       "       [-8.63113781e-02,  7.37695132e-01,  3.23279954e-03, ...,\n",
       "         8.50531749e-01, -5.06655284e-01, -2.16802964e-01],\n",
       "       [-8.63113781e-02,  7.37695132e-01, -4.72315632e-03, ...,\n",
       "         8.50531749e-01, -5.06655284e-01, -2.16802964e-01],\n",
       "       [-8.63113781e-02,  7.37695132e-01, -4.72315632e-03, ...,\n",
       "        -1.17573506e+00, -5.06655284e-01,  4.61248306e+00]])"
      ]
     },
     "execution_count": 100,
     "metadata": {},
     "output_type": "execute_result"
    }
   ],
   "source": [
    "std_scalar.transform(X_train)\n",
    "std_scalar.transform(X_test)"
   ]
  },
  {
   "cell_type": "code",
   "execution_count": 101,
   "metadata": {},
   "outputs": [
    {
     "name": "stdout",
     "output_type": "stream",
     "text": [
      "Epoch 1/200\n",
      "12/12 [==============================] - 0s 38ms/step - loss: 0.6442 - accuracy: 0.6461 - val_loss: 0.5623 - val_accuracy: 0.7207\n",
      "Epoch 2/200\n",
      "12/12 [==============================] - 0s 24ms/step - loss: 0.6232 - accuracy: 0.6784 - val_loss: 0.5598 - val_accuracy: 0.7263\n",
      "Epoch 3/200\n",
      "12/12 [==============================] - 0s 24ms/step - loss: 0.6186 - accuracy: 0.6798 - val_loss: 0.5460 - val_accuracy: 0.7318\n",
      "Epoch 4/200\n",
      "12/12 [==============================] - 0s 23ms/step - loss: 0.6161 - accuracy: 0.6770 - val_loss: 0.5945 - val_accuracy: 0.7151\n",
      "Epoch 5/200\n",
      "12/12 [==============================] - 0s 22ms/step - loss: 0.6345 - accuracy: 0.6559 - val_loss: 0.5860 - val_accuracy: 0.6927\n",
      "Epoch 6/200\n",
      "12/12 [==============================] - 0s 22ms/step - loss: 0.6286 - accuracy: 0.6826 - val_loss: 0.5544 - val_accuracy: 0.7430\n",
      "Epoch 7/200\n",
      "12/12 [==============================] - 0s 22ms/step - loss: 0.6075 - accuracy: 0.6699 - val_loss: 0.5511 - val_accuracy: 0.7207\n",
      "Epoch 8/200\n",
      "12/12 [==============================] - 0s 22ms/step - loss: 0.6050 - accuracy: 0.6840 - val_loss: 0.5454 - val_accuracy: 0.7374\n",
      "Epoch 9/200\n",
      "12/12 [==============================] - 0s 22ms/step - loss: 0.6181 - accuracy: 0.6742 - val_loss: 0.5404 - val_accuracy: 0.7207\n",
      "Epoch 10/200\n",
      "12/12 [==============================] - 0s 22ms/step - loss: 0.5992 - accuracy: 0.6812 - val_loss: 0.5775 - val_accuracy: 0.7207\n",
      "Epoch 11/200\n",
      "12/12 [==============================] - 0s 22ms/step - loss: 0.6266 - accuracy: 0.6545 - val_loss: 0.5401 - val_accuracy: 0.7151\n",
      "Epoch 12/200\n",
      "12/12 [==============================] - 0s 22ms/step - loss: 0.5972 - accuracy: 0.6756 - val_loss: 0.5218 - val_accuracy: 0.7039\n",
      "Epoch 13/200\n",
      "12/12 [==============================] - 0s 22ms/step - loss: 0.6011 - accuracy: 0.6728 - val_loss: 0.5357 - val_accuracy: 0.7039\n",
      "Epoch 14/200\n",
      "12/12 [==============================] - 0s 23ms/step - loss: 0.5991 - accuracy: 0.6756 - val_loss: 0.5647 - val_accuracy: 0.7263\n",
      "Epoch 15/200\n",
      "12/12 [==============================] - 0s 23ms/step - loss: 0.5879 - accuracy: 0.6784 - val_loss: 0.5213 - val_accuracy: 0.7318\n",
      "Epoch 16/200\n",
      "12/12 [==============================] - 0s 22ms/step - loss: 0.5740 - accuracy: 0.6952 - val_loss: 0.5031 - val_accuracy: 0.7374\n",
      "Epoch 17/200\n",
      "12/12 [==============================] - 0s 22ms/step - loss: 0.5629 - accuracy: 0.6938 - val_loss: 0.4793 - val_accuracy: 0.7654\n",
      "Epoch 18/200\n",
      "12/12 [==============================] - 0s 23ms/step - loss: 0.5623 - accuracy: 0.7107 - val_loss: 0.5093 - val_accuracy: 0.7486\n",
      "Epoch 19/200\n",
      "12/12 [==============================] - 0s 24ms/step - loss: 0.5751 - accuracy: 0.7149 - val_loss: 0.4741 - val_accuracy: 0.7598\n",
      "Epoch 20/200\n",
      "12/12 [==============================] - 0s 23ms/step - loss: 0.5593 - accuracy: 0.7093 - val_loss: 0.4559 - val_accuracy: 0.7821\n",
      "Epoch 21/200\n",
      "12/12 [==============================] - 0s 22ms/step - loss: 0.5729 - accuracy: 0.6952 - val_loss: 0.4937 - val_accuracy: 0.7709\n",
      "Epoch 22/200\n",
      "12/12 [==============================] - 0s 23ms/step - loss: 0.5563 - accuracy: 0.7079 - val_loss: 0.4992 - val_accuracy: 0.7542\n",
      "Epoch 23/200\n",
      "12/12 [==============================] - 0s 23ms/step - loss: 0.5479 - accuracy: 0.7121 - val_loss: 0.5688 - val_accuracy: 0.7263\n",
      "Epoch 24/200\n",
      "12/12 [==============================] - 0s 25ms/step - loss: 0.5600 - accuracy: 0.7177 - val_loss: 0.5187 - val_accuracy: 0.7765\n",
      "Epoch 25/200\n",
      "12/12 [==============================] - 0s 26ms/step - loss: 0.5622 - accuracy: 0.7079 - val_loss: 0.5144 - val_accuracy: 0.7598\n",
      "Epoch 26/200\n",
      "12/12 [==============================] - 0s 26ms/step - loss: 0.5330 - accuracy: 0.7444 - val_loss: 0.4559 - val_accuracy: 0.7933\n",
      "Epoch 27/200\n",
      "12/12 [==============================] - 0s 26ms/step - loss: 0.5565 - accuracy: 0.7219 - val_loss: 0.4592 - val_accuracy: 0.7877\n",
      "Epoch 28/200\n",
      "12/12 [==============================] - 0s 27ms/step - loss: 0.5354 - accuracy: 0.7472 - val_loss: 0.4773 - val_accuracy: 0.7877\n",
      "Epoch 29/200\n",
      "12/12 [==============================] - 0s 26ms/step - loss: 0.5359 - accuracy: 0.7458 - val_loss: 0.4484 - val_accuracy: 0.7821\n",
      "Epoch 30/200\n",
      "12/12 [==============================] - 0s 26ms/step - loss: 0.5151 - accuracy: 0.7654 - val_loss: 0.4477 - val_accuracy: 0.7598\n",
      "Epoch 31/200\n",
      "12/12 [==============================] - 0s 25ms/step - loss: 0.4956 - accuracy: 0.7711 - val_loss: 0.4289 - val_accuracy: 0.8156\n",
      "Epoch 32/200\n",
      "12/12 [==============================] - 0s 26ms/step - loss: 0.4964 - accuracy: 0.7654 - val_loss: 0.5107 - val_accuracy: 0.7318\n",
      "Epoch 33/200\n",
      "12/12 [==============================] - 0s 25ms/step - loss: 0.5471 - accuracy: 0.7331 - val_loss: 0.5431 - val_accuracy: 0.7821\n",
      "Epoch 34/200\n",
      "12/12 [==============================] - 0s 26ms/step - loss: 0.5939 - accuracy: 0.7093 - val_loss: 0.5058 - val_accuracy: 0.7095\n",
      "Epoch 35/200\n",
      "12/12 [==============================] - 0s 25ms/step - loss: 0.5639 - accuracy: 0.7247 - val_loss: 0.4655 - val_accuracy: 0.8101\n",
      "Epoch 36/200\n",
      "12/12 [==============================] - 0s 25ms/step - loss: 0.5145 - accuracy: 0.7472 - val_loss: 0.4455 - val_accuracy: 0.7821\n",
      "Epoch 37/200\n",
      "12/12 [==============================] - 0s 27ms/step - loss: 0.4968 - accuracy: 0.7542 - val_loss: 0.4135 - val_accuracy: 0.7933\n",
      "Epoch 38/200\n",
      "12/12 [==============================] - 0s 26ms/step - loss: 0.5115 - accuracy: 0.7753 - val_loss: 0.4427 - val_accuracy: 0.7821\n",
      "Epoch 39/200\n",
      "12/12 [==============================] - 0s 26ms/step - loss: 0.4957 - accuracy: 0.7781 - val_loss: 0.4144 - val_accuracy: 0.8156\n",
      "Epoch 40/200\n",
      "12/12 [==============================] - 0s 25ms/step - loss: 0.4847 - accuracy: 0.7654 - val_loss: 0.4991 - val_accuracy: 0.7430\n",
      "Epoch 41/200\n",
      "12/12 [==============================] - 0s 26ms/step - loss: 0.5575 - accuracy: 0.7374 - val_loss: 0.4541 - val_accuracy: 0.8324\n",
      "Epoch 42/200\n",
      "12/12 [==============================] - 0s 25ms/step - loss: 0.4909 - accuracy: 0.7921 - val_loss: 0.4243 - val_accuracy: 0.8268\n",
      "Epoch 43/200\n",
      "12/12 [==============================] - 0s 25ms/step - loss: 0.4711 - accuracy: 0.7879 - val_loss: 0.3961 - val_accuracy: 0.8380\n",
      "Epoch 44/200\n",
      "12/12 [==============================] - 0s 25ms/step - loss: 0.4743 - accuracy: 0.7949 - val_loss: 0.4245 - val_accuracy: 0.8380\n",
      "Epoch 45/200\n",
      "12/12 [==============================] - 0s 26ms/step - loss: 0.5140 - accuracy: 0.7444 - val_loss: 0.4318 - val_accuracy: 0.8156\n",
      "Epoch 46/200\n",
      "12/12 [==============================] - 0s 26ms/step - loss: 0.5510 - accuracy: 0.7065 - val_loss: 0.5167 - val_accuracy: 0.8156\n",
      "Epoch 47/200\n",
      "12/12 [==============================] - 0s 26ms/step - loss: 0.5166 - accuracy: 0.7809 - val_loss: 0.4135 - val_accuracy: 0.8045\n",
      "Epoch 48/200\n",
      "12/12 [==============================] - 0s 26ms/step - loss: 0.4790 - accuracy: 0.7654 - val_loss: 0.4355 - val_accuracy: 0.8268\n",
      "Epoch 49/200\n",
      "12/12 [==============================] - 0s 25ms/step - loss: 0.4686 - accuracy: 0.7893 - val_loss: 0.4646 - val_accuracy: 0.8268\n",
      "Epoch 50/200\n",
      "12/12 [==============================] - 0s 25ms/step - loss: 0.5201 - accuracy: 0.7711 - val_loss: 0.4667 - val_accuracy: 0.8380\n",
      "Epoch 51/200\n",
      "12/12 [==============================] - 0s 25ms/step - loss: 0.4872 - accuracy: 0.7767 - val_loss: 0.4266 - val_accuracy: 0.8268\n",
      "Epoch 52/200\n",
      "12/12 [==============================] - 0s 26ms/step - loss: 0.4684 - accuracy: 0.7851 - val_loss: 0.3890 - val_accuracy: 0.8212\n",
      "Epoch 53/200\n",
      "12/12 [==============================] - 0s 26ms/step - loss: 0.4679 - accuracy: 0.7781 - val_loss: 0.4032 - val_accuracy: 0.8212\n",
      "Epoch 54/200\n",
      "12/12 [==============================] - 0s 25ms/step - loss: 0.4594 - accuracy: 0.7795 - val_loss: 0.3701 - val_accuracy: 0.8436\n",
      "Epoch 55/200\n",
      "12/12 [==============================] - 0s 26ms/step - loss: 0.4515 - accuracy: 0.7963 - val_loss: 0.3912 - val_accuracy: 0.8268\n",
      "Epoch 56/200\n",
      "12/12 [==============================] - 0s 26ms/step - loss: 0.4523 - accuracy: 0.7978 - val_loss: 0.4415 - val_accuracy: 0.7765\n",
      "Epoch 57/200\n",
      "12/12 [==============================] - 0s 26ms/step - loss: 0.4528 - accuracy: 0.7907 - val_loss: 0.3662 - val_accuracy: 0.8436\n",
      "Epoch 58/200\n",
      "12/12 [==============================] - 0s 27ms/step - loss: 0.4309 - accuracy: 0.8174 - val_loss: 0.3780 - val_accuracy: 0.8212\n",
      "Epoch 59/200\n",
      "12/12 [==============================] - 0s 27ms/step - loss: 0.4301 - accuracy: 0.8202 - val_loss: 0.4291 - val_accuracy: 0.8212\n",
      "Epoch 60/200\n",
      "12/12 [==============================] - 0s 26ms/step - loss: 0.4500 - accuracy: 0.8006 - val_loss: 0.4088 - val_accuracy: 0.8101\n",
      "Epoch 61/200\n",
      "12/12 [==============================] - 0s 26ms/step - loss: 0.4555 - accuracy: 0.7851 - val_loss: 0.3797 - val_accuracy: 0.8492\n",
      "Epoch 62/200\n",
      "12/12 [==============================] - 0s 25ms/step - loss: 0.4646 - accuracy: 0.7963 - val_loss: 0.4287 - val_accuracy: 0.8324\n",
      "Epoch 63/200\n",
      "12/12 [==============================] - 0s 26ms/step - loss: 0.4628 - accuracy: 0.7893 - val_loss: 0.3822 - val_accuracy: 0.8324\n",
      "Epoch 64/200\n",
      "12/12 [==============================] - 0s 25ms/step - loss: 0.4508 - accuracy: 0.7978 - val_loss: 0.3762 - val_accuracy: 0.8268\n",
      "Epoch 65/200\n",
      "12/12 [==============================] - 0s 29ms/step - loss: 0.4322 - accuracy: 0.8146 - val_loss: 0.3777 - val_accuracy: 0.8212\n",
      "Epoch 66/200\n",
      "12/12 [==============================] - 0s 27ms/step - loss: 0.4514 - accuracy: 0.7978 - val_loss: 0.3885 - val_accuracy: 0.8547\n",
      "Epoch 67/200\n",
      "12/12 [==============================] - 0s 25ms/step - loss: 0.4318 - accuracy: 0.8188 - val_loss: 0.4104 - val_accuracy: 0.8268\n",
      "Epoch 68/200\n",
      "12/12 [==============================] - 0s 27ms/step - loss: 0.4399 - accuracy: 0.8076 - val_loss: 0.3503 - val_accuracy: 0.8380\n",
      "Epoch 69/200\n",
      "12/12 [==============================] - 0s 26ms/step - loss: 0.4647 - accuracy: 0.7851 - val_loss: 0.4096 - val_accuracy: 0.8380\n",
      "Epoch 70/200\n",
      "12/12 [==============================] - 0s 26ms/step - loss: 0.4641 - accuracy: 0.7893 - val_loss: 0.3683 - val_accuracy: 0.8324\n",
      "Epoch 71/200\n",
      "12/12 [==============================] - 0s 27ms/step - loss: 0.4314 - accuracy: 0.8146 - val_loss: 0.3500 - val_accuracy: 0.8659\n",
      "Epoch 72/200\n",
      "12/12 [==============================] - 0s 28ms/step - loss: 0.4301 - accuracy: 0.8062 - val_loss: 0.5434 - val_accuracy: 0.7430\n",
      "Epoch 73/200\n",
      "12/12 [==============================] - 0s 27ms/step - loss: 0.5249 - accuracy: 0.7360 - val_loss: 0.5255 - val_accuracy: 0.7263\n",
      "Epoch 74/200\n",
      "12/12 [==============================] - 0s 26ms/step - loss: 0.5619 - accuracy: 0.7163 - val_loss: 0.4589 - val_accuracy: 0.8156\n",
      "Epoch 75/200\n",
      "12/12 [==============================] - 0s 31ms/step - loss: 0.4717 - accuracy: 0.7865 - val_loss: 0.3627 - val_accuracy: 0.8212\n",
      "Epoch 76/200\n",
      "12/12 [==============================] - 0s 27ms/step - loss: 0.4454 - accuracy: 0.7949 - val_loss: 0.3655 - val_accuracy: 0.8436\n",
      "Epoch 77/200\n",
      "12/12 [==============================] - 0s 31ms/step - loss: 0.4271 - accuracy: 0.8272 - val_loss: 0.3702 - val_accuracy: 0.8268\n",
      "Epoch 78/200\n",
      "12/12 [==============================] - 0s 27ms/step - loss: 0.4591 - accuracy: 0.7711 - val_loss: 0.4145 - val_accuracy: 0.7933\n",
      "Epoch 79/200\n",
      "12/12 [==============================] - 0s 27ms/step - loss: 0.4448 - accuracy: 0.8174 - val_loss: 0.3869 - val_accuracy: 0.8324\n",
      "Epoch 80/200\n",
      "12/12 [==============================] - 0s 28ms/step - loss: 0.4410 - accuracy: 0.8202 - val_loss: 0.3913 - val_accuracy: 0.8212\n",
      "Epoch 81/200\n",
      "12/12 [==============================] - 0s 27ms/step - loss: 0.4288 - accuracy: 0.8118 - val_loss: 0.3608 - val_accuracy: 0.8603\n",
      "Epoch 82/200\n",
      "12/12 [==============================] - 0s 27ms/step - loss: 0.4298 - accuracy: 0.8118 - val_loss: 0.3736 - val_accuracy: 0.8492\n",
      "Epoch 83/200\n",
      "12/12 [==============================] - 0s 28ms/step - loss: 0.4446 - accuracy: 0.8076 - val_loss: 0.3948 - val_accuracy: 0.8101\n",
      "Epoch 84/200\n",
      "12/12 [==============================] - 0s 27ms/step - loss: 0.4474 - accuracy: 0.7992 - val_loss: 0.3749 - val_accuracy: 0.8547\n",
      "Epoch 85/200\n",
      "12/12 [==============================] - 0s 28ms/step - loss: 0.4615 - accuracy: 0.7949 - val_loss: 0.4204 - val_accuracy: 0.8156\n",
      "Epoch 86/200\n",
      "12/12 [==============================] - 0s 27ms/step - loss: 0.4789 - accuracy: 0.7781 - val_loss: 0.3797 - val_accuracy: 0.8380\n",
      "Epoch 87/200\n",
      "12/12 [==============================] - 0s 27ms/step - loss: 0.4439 - accuracy: 0.8006 - val_loss: 0.3525 - val_accuracy: 0.8547\n",
      "Epoch 88/200\n",
      "12/12 [==============================] - 0s 27ms/step - loss: 0.4336 - accuracy: 0.8006 - val_loss: 0.3440 - val_accuracy: 0.8603\n",
      "Epoch 89/200\n",
      "12/12 [==============================] - 0s 27ms/step - loss: 0.4230 - accuracy: 0.8202 - val_loss: 0.3467 - val_accuracy: 0.8547\n",
      "Epoch 90/200\n",
      "12/12 [==============================] - 0s 27ms/step - loss: 0.4130 - accuracy: 0.8258 - val_loss: 0.3574 - val_accuracy: 0.8603\n",
      "Epoch 91/200\n",
      "12/12 [==============================] - 0s 27ms/step - loss: 0.4500 - accuracy: 0.7978 - val_loss: 0.3777 - val_accuracy: 0.8547\n",
      "Epoch 92/200\n",
      "12/12 [==============================] - 0s 27ms/step - loss: 0.4955 - accuracy: 0.7739 - val_loss: 0.3853 - val_accuracy: 0.8547\n",
      "Epoch 93/200\n",
      "12/12 [==============================] - 0s 27ms/step - loss: 0.4334 - accuracy: 0.8174 - val_loss: 0.3510 - val_accuracy: 0.8547\n",
      "Epoch 94/200\n",
      "12/12 [==============================] - 0s 27ms/step - loss: 0.4179 - accuracy: 0.8090 - val_loss: 0.3538 - val_accuracy: 0.8547\n",
      "Epoch 95/200\n",
      "12/12 [==============================] - 0s 26ms/step - loss: 0.4090 - accuracy: 0.8343 - val_loss: 0.3685 - val_accuracy: 0.8380\n",
      "Epoch 96/200\n",
      "12/12 [==============================] - 0s 27ms/step - loss: 0.4119 - accuracy: 0.8230 - val_loss: 0.3553 - val_accuracy: 0.8547\n",
      "Epoch 97/200\n",
      "12/12 [==============================] - 0s 28ms/step - loss: 0.4028 - accuracy: 0.8315 - val_loss: 0.3452 - val_accuracy: 0.8547\n",
      "Epoch 98/200\n",
      "12/12 [==============================] - 0s 27ms/step - loss: 0.4268 - accuracy: 0.8090 - val_loss: 0.3670 - val_accuracy: 0.8380\n",
      "Epoch 99/200\n",
      "12/12 [==============================] - 0s 27ms/step - loss: 0.4068 - accuracy: 0.8258 - val_loss: 0.3580 - val_accuracy: 0.8380\n",
      "Epoch 100/200\n",
      "12/12 [==============================] - 0s 27ms/step - loss: 0.4096 - accuracy: 0.8202 - val_loss: 0.3528 - val_accuracy: 0.8547\n",
      "Epoch 101/200\n",
      "12/12 [==============================] - 0s 28ms/step - loss: 0.4094 - accuracy: 0.8230 - val_loss: 0.3803 - val_accuracy: 0.8380\n",
      "Epoch 102/200\n",
      "12/12 [==============================] - 0s 27ms/step - loss: 0.4193 - accuracy: 0.8146 - val_loss: 0.3935 - val_accuracy: 0.8492\n",
      "Epoch 103/200\n",
      "12/12 [==============================] - 0s 26ms/step - loss: 0.4119 - accuracy: 0.8357 - val_loss: 0.3663 - val_accuracy: 0.8436\n",
      "Epoch 104/200\n",
      "12/12 [==============================] - 0s 26ms/step - loss: 0.4219 - accuracy: 0.8118 - val_loss: 0.3934 - val_accuracy: 0.8380\n",
      "Epoch 105/200\n",
      "12/12 [==============================] - 0s 28ms/step - loss: 0.4123 - accuracy: 0.8118 - val_loss: 0.3885 - val_accuracy: 0.8380\n",
      "Epoch 106/200\n",
      "12/12 [==============================] - 0s 28ms/step - loss: 0.4017 - accuracy: 0.8272 - val_loss: 0.3957 - val_accuracy: 0.8380\n",
      "Epoch 107/200\n",
      "12/12 [==============================] - 0s 28ms/step - loss: 0.4077 - accuracy: 0.8174 - val_loss: 0.3838 - val_accuracy: 0.8380\n",
      "Epoch 108/200\n",
      "12/12 [==============================] - 0s 27ms/step - loss: 0.4503 - accuracy: 0.8020 - val_loss: 0.3583 - val_accuracy: 0.8603\n",
      "Epoch 109/200\n",
      "12/12 [==============================] - 0s 27ms/step - loss: 0.4602 - accuracy: 0.7767 - val_loss: 0.3765 - val_accuracy: 0.8492\n",
      "Epoch 110/200\n",
      "12/12 [==============================] - 0s 28ms/step - loss: 0.4406 - accuracy: 0.8118 - val_loss: 0.3738 - val_accuracy: 0.8436\n",
      "Epoch 111/200\n",
      "12/12 [==============================] - 0s 28ms/step - loss: 0.4223 - accuracy: 0.8160 - val_loss: 0.3521 - val_accuracy: 0.8603\n",
      "Epoch 112/200\n",
      "12/12 [==============================] - 0s 28ms/step - loss: 0.4145 - accuracy: 0.8202 - val_loss: 0.3692 - val_accuracy: 0.8436\n",
      "Epoch 113/200\n",
      "12/12 [==============================] - 0s 28ms/step - loss: 0.4128 - accuracy: 0.8230 - val_loss: 0.3761 - val_accuracy: 0.8492\n",
      "Epoch 114/200\n",
      "12/12 [==============================] - 0s 27ms/step - loss: 0.3960 - accuracy: 0.8329 - val_loss: 0.3535 - val_accuracy: 0.8547\n",
      "Epoch 115/200\n",
      "12/12 [==============================] - 0s 26ms/step - loss: 0.3969 - accuracy: 0.8357 - val_loss: 0.3476 - val_accuracy: 0.8603\n",
      "Epoch 116/200\n",
      "12/12 [==============================] - 0s 25ms/step - loss: 0.3890 - accuracy: 0.8413 - val_loss: 0.3400 - val_accuracy: 0.8659\n",
      "Epoch 117/200\n",
      "12/12 [==============================] - 0s 26ms/step - loss: 0.4152 - accuracy: 0.8202 - val_loss: 0.3999 - val_accuracy: 0.8324\n",
      "Epoch 118/200\n",
      "12/12 [==============================] - 0s 25ms/step - loss: 0.4068 - accuracy: 0.8062 - val_loss: 0.3563 - val_accuracy: 0.8380\n",
      "Epoch 119/200\n",
      "12/12 [==============================] - 0s 25ms/step - loss: 0.4130 - accuracy: 0.8216 - val_loss: 0.3564 - val_accuracy: 0.8380\n",
      "Epoch 120/200\n",
      "12/12 [==============================] - 0s 25ms/step - loss: 0.3906 - accuracy: 0.8357 - val_loss: 0.3575 - val_accuracy: 0.8603\n",
      "Epoch 121/200\n",
      "12/12 [==============================] - 0s 25ms/step - loss: 0.3865 - accuracy: 0.8441 - val_loss: 0.3695 - val_accuracy: 0.8603\n",
      "Epoch 122/200\n",
      "12/12 [==============================] - 0s 25ms/step - loss: 0.3972 - accuracy: 0.8272 - val_loss: 0.3526 - val_accuracy: 0.8603\n",
      "Epoch 123/200\n",
      "12/12 [==============================] - 0s 26ms/step - loss: 0.4025 - accuracy: 0.8301 - val_loss: 0.5008 - val_accuracy: 0.8380\n",
      "Epoch 124/200\n",
      "12/12 [==============================] - 0s 25ms/step - loss: 0.4592 - accuracy: 0.8020 - val_loss: 0.4332 - val_accuracy: 0.8212\n",
      "Epoch 125/200\n",
      "12/12 [==============================] - 0s 26ms/step - loss: 0.4530 - accuracy: 0.8118 - val_loss: 0.3554 - val_accuracy: 0.8603\n",
      "Epoch 126/200\n",
      "12/12 [==============================] - 0s 25ms/step - loss: 0.4270 - accuracy: 0.8132 - val_loss: 0.3437 - val_accuracy: 0.8715\n",
      "Epoch 127/200\n",
      "12/12 [==============================] - 0s 25ms/step - loss: 0.4712 - accuracy: 0.7823 - val_loss: 0.3869 - val_accuracy: 0.8380\n",
      "Epoch 128/200\n",
      "12/12 [==============================] - 0s 25ms/step - loss: 0.4461 - accuracy: 0.8020 - val_loss: 0.3430 - val_accuracy: 0.8547\n",
      "Epoch 129/200\n",
      "12/12 [==============================] - 0s 25ms/step - loss: 0.4019 - accuracy: 0.8301 - val_loss: 0.3394 - val_accuracy: 0.8603\n",
      "Epoch 130/200\n",
      "12/12 [==============================] - 0s 25ms/step - loss: 0.4069 - accuracy: 0.8174 - val_loss: 0.3721 - val_accuracy: 0.8268\n",
      "Epoch 131/200\n",
      "12/12 [==============================] - 0s 25ms/step - loss: 0.4065 - accuracy: 0.8202 - val_loss: 0.3529 - val_accuracy: 0.8603\n",
      "Epoch 132/200\n",
      "12/12 [==============================] - 0s 25ms/step - loss: 0.3855 - accuracy: 0.8329 - val_loss: 0.3585 - val_accuracy: 0.8436\n",
      "Epoch 133/200\n",
      "12/12 [==============================] - 0s 25ms/step - loss: 0.3870 - accuracy: 0.8315 - val_loss: 0.4135 - val_accuracy: 0.8380\n",
      "Epoch 134/200\n",
      "12/12 [==============================] - 0s 25ms/step - loss: 0.3888 - accuracy: 0.8244 - val_loss: 0.3610 - val_accuracy: 0.8492\n",
      "Epoch 135/200\n",
      "12/12 [==============================] - 0s 25ms/step - loss: 0.3859 - accuracy: 0.8427 - val_loss: 0.3389 - val_accuracy: 0.8659\n",
      "Epoch 136/200\n",
      "12/12 [==============================] - 0s 25ms/step - loss: 0.3973 - accuracy: 0.8301 - val_loss: 0.3721 - val_accuracy: 0.8380\n",
      "Epoch 137/200\n",
      "12/12 [==============================] - 0s 26ms/step - loss: 0.4954 - accuracy: 0.7725 - val_loss: 0.4299 - val_accuracy: 0.8380\n",
      "Epoch 138/200\n",
      "12/12 [==============================] - 0s 25ms/step - loss: 0.4673 - accuracy: 0.8006 - val_loss: 0.3856 - val_accuracy: 0.8324\n",
      "Epoch 139/200\n",
      "12/12 [==============================] - 0s 25ms/step - loss: 0.4344 - accuracy: 0.8118 - val_loss: 0.3852 - val_accuracy: 0.8436\n",
      "Epoch 140/200\n",
      "12/12 [==============================] - 0s 26ms/step - loss: 0.4367 - accuracy: 0.8062 - val_loss: 0.3580 - val_accuracy: 0.8659\n",
      "Epoch 141/200\n",
      "12/12 [==============================] - 0s 25ms/step - loss: 0.4164 - accuracy: 0.8216 - val_loss: 0.3527 - val_accuracy: 0.8659\n",
      "Epoch 142/200\n",
      "12/12 [==============================] - 0s 25ms/step - loss: 0.3995 - accuracy: 0.8272 - val_loss: 0.3484 - val_accuracy: 0.8603\n",
      "Epoch 143/200\n",
      "12/12 [==============================] - 0s 26ms/step - loss: 0.3867 - accuracy: 0.8385 - val_loss: 0.3470 - val_accuracy: 0.8659\n",
      "Epoch 144/200\n",
      "12/12 [==============================] - 0s 25ms/step - loss: 0.3777 - accuracy: 0.8427 - val_loss: 0.3656 - val_accuracy: 0.8547\n",
      "Epoch 145/200\n",
      "12/12 [==============================] - 0s 25ms/step - loss: 0.3871 - accuracy: 0.8399 - val_loss: 0.3514 - val_accuracy: 0.8659\n",
      "Epoch 146/200\n",
      "12/12 [==============================] - 0s 25ms/step - loss: 0.3911 - accuracy: 0.8287 - val_loss: 0.3649 - val_accuracy: 0.8380\n",
      "Epoch 147/200\n",
      "12/12 [==============================] - 0s 26ms/step - loss: 0.3969 - accuracy: 0.8315 - val_loss: 0.3383 - val_accuracy: 0.8603\n",
      "Epoch 148/200\n",
      "12/12 [==============================] - 0s 25ms/step - loss: 0.3881 - accuracy: 0.8301 - val_loss: 0.3474 - val_accuracy: 0.8492\n",
      "Epoch 149/200\n",
      "12/12 [==============================] - 0s 26ms/step - loss: 0.3985 - accuracy: 0.8287 - val_loss: 0.3637 - val_accuracy: 0.8547\n",
      "Epoch 150/200\n",
      "12/12 [==============================] - 0s 26ms/step - loss: 0.3830 - accuracy: 0.8371 - val_loss: 0.3775 - val_accuracy: 0.8436\n",
      "Epoch 151/200\n",
      "12/12 [==============================] - 0s 25ms/step - loss: 0.3901 - accuracy: 0.8329 - val_loss: 0.3852 - val_accuracy: 0.8268\n",
      "Epoch 152/200\n",
      "12/12 [==============================] - 0s 27ms/step - loss: 0.5468 - accuracy: 0.7289 - val_loss: 0.4599 - val_accuracy: 0.8268\n",
      "Epoch 153/200\n",
      "12/12 [==============================] - 0s 25ms/step - loss: 0.4826 - accuracy: 0.8090 - val_loss: 0.3882 - val_accuracy: 0.8436\n",
      "Epoch 154/200\n",
      "12/12 [==============================] - 0s 25ms/step - loss: 0.4385 - accuracy: 0.8146 - val_loss: 0.3909 - val_accuracy: 0.8380\n",
      "Epoch 155/200\n",
      "12/12 [==============================] - 0s 27ms/step - loss: 0.4514 - accuracy: 0.8076 - val_loss: 0.3635 - val_accuracy: 0.8268\n",
      "Epoch 156/200\n",
      "12/12 [==============================] - 0s 26ms/step - loss: 0.4333 - accuracy: 0.8090 - val_loss: 0.3664 - val_accuracy: 0.8603\n",
      "Epoch 157/200\n",
      "12/12 [==============================] - 0s 26ms/step - loss: 0.4122 - accuracy: 0.8132 - val_loss: 0.3468 - val_accuracy: 0.8492\n",
      "Epoch 158/200\n",
      "12/12 [==============================] - 0s 26ms/step - loss: 0.4003 - accuracy: 0.8329 - val_loss: 0.3846 - val_accuracy: 0.8492\n",
      "Epoch 159/200\n",
      "12/12 [==============================] - 0s 25ms/step - loss: 0.4066 - accuracy: 0.8230 - val_loss: 0.3691 - val_accuracy: 0.8492\n",
      "Epoch 160/200\n",
      "12/12 [==============================] - 0s 25ms/step - loss: 0.4582 - accuracy: 0.7781 - val_loss: 0.3826 - val_accuracy: 0.8603\n",
      "Epoch 161/200\n",
      "12/12 [==============================] - 0s 26ms/step - loss: 0.5230 - accuracy: 0.7149 - val_loss: 0.4658 - val_accuracy: 0.8268\n",
      "Epoch 162/200\n",
      "12/12 [==============================] - 0s 25ms/step - loss: 0.4729 - accuracy: 0.7893 - val_loss: 0.3590 - val_accuracy: 0.8380\n",
      "Epoch 163/200\n",
      "12/12 [==============================] - 0s 26ms/step - loss: 0.4344 - accuracy: 0.8020 - val_loss: 0.3482 - val_accuracy: 0.8547\n",
      "Epoch 164/200\n",
      "12/12 [==============================] - 0s 26ms/step - loss: 0.4041 - accuracy: 0.8174 - val_loss: 0.3548 - val_accuracy: 0.8547\n",
      "Epoch 165/200\n",
      "12/12 [==============================] - 0s 26ms/step - loss: 0.4085 - accuracy: 0.8315 - val_loss: 0.3533 - val_accuracy: 0.8547\n",
      "Epoch 166/200\n",
      "12/12 [==============================] - 0s 25ms/step - loss: 0.3981 - accuracy: 0.8272 - val_loss: 0.3569 - val_accuracy: 0.8492\n",
      "Epoch 167/200\n",
      "12/12 [==============================] - 0s 26ms/step - loss: 0.3796 - accuracy: 0.8329 - val_loss: 0.3509 - val_accuracy: 0.8659\n",
      "Epoch 168/200\n",
      "12/12 [==============================] - 0s 26ms/step - loss: 0.3760 - accuracy: 0.8357 - val_loss: 0.3510 - val_accuracy: 0.8659\n",
      "Epoch 169/200\n",
      "12/12 [==============================] - 0s 25ms/step - loss: 0.3842 - accuracy: 0.8301 - val_loss: 0.3902 - val_accuracy: 0.7933\n",
      "Epoch 170/200\n",
      "12/12 [==============================] - 0s 26ms/step - loss: 0.4133 - accuracy: 0.8146 - val_loss: 0.3498 - val_accuracy: 0.8603\n",
      "Epoch 171/200\n",
      "12/12 [==============================] - 0s 26ms/step - loss: 0.4006 - accuracy: 0.8160 - val_loss: 0.3691 - val_accuracy: 0.8547\n",
      "Epoch 172/200\n",
      "12/12 [==============================] - 0s 25ms/step - loss: 0.4055 - accuracy: 0.8258 - val_loss: 0.3273 - val_accuracy: 0.8659\n",
      "Epoch 173/200\n",
      "12/12 [==============================] - 0s 26ms/step - loss: 0.3849 - accuracy: 0.8385 - val_loss: 0.3709 - val_accuracy: 0.8492\n",
      "Epoch 174/200\n",
      "12/12 [==============================] - 0s 25ms/step - loss: 0.3697 - accuracy: 0.8455 - val_loss: 0.3359 - val_accuracy: 0.8659\n",
      "Epoch 175/200\n",
      "12/12 [==============================] - 0s 26ms/step - loss: 0.3824 - accuracy: 0.8301 - val_loss: 0.3889 - val_accuracy: 0.8268\n",
      "Epoch 176/200\n",
      "12/12 [==============================] - 0s 25ms/step - loss: 0.3823 - accuracy: 0.8329 - val_loss: 0.3520 - val_accuracy: 0.8492\n",
      "Epoch 177/200\n",
      "12/12 [==============================] - 0s 25ms/step - loss: 0.4076 - accuracy: 0.8230 - val_loss: 0.3706 - val_accuracy: 0.8547\n",
      "Epoch 178/200\n",
      "12/12 [==============================] - 0s 24ms/step - loss: 0.3838 - accuracy: 0.8287 - val_loss: 0.3535 - val_accuracy: 0.8324\n",
      "Epoch 179/200\n",
      "12/12 [==============================] - 0s 26ms/step - loss: 0.3756 - accuracy: 0.8371 - val_loss: 0.3469 - val_accuracy: 0.8715\n",
      "Epoch 180/200\n",
      "12/12 [==============================] - 0s 25ms/step - loss: 0.3727 - accuracy: 0.8315 - val_loss: 0.3612 - val_accuracy: 0.8380\n",
      "Epoch 181/200\n",
      "12/12 [==============================] - 0s 25ms/step - loss: 0.3756 - accuracy: 0.8385 - val_loss: 0.3726 - val_accuracy: 0.8436\n",
      "Epoch 182/200\n",
      "12/12 [==============================] - 0s 26ms/step - loss: 0.3756 - accuracy: 0.8371 - val_loss: 0.3549 - val_accuracy: 0.8659\n",
      "Epoch 183/200\n",
      "12/12 [==============================] - 0s 26ms/step - loss: 0.3657 - accuracy: 0.8441 - val_loss: 0.3586 - val_accuracy: 0.8659\n",
      "Epoch 184/200\n",
      "12/12 [==============================] - 0s 25ms/step - loss: 0.3756 - accuracy: 0.8413 - val_loss: 0.3864 - val_accuracy: 0.8492\n",
      "Epoch 185/200\n",
      "12/12 [==============================] - 0s 26ms/step - loss: 0.3655 - accuracy: 0.8455 - val_loss: 0.3651 - val_accuracy: 0.8492\n",
      "Epoch 186/200\n",
      "12/12 [==============================] - 0s 25ms/step - loss: 0.3688 - accuracy: 0.8385 - val_loss: 0.4015 - val_accuracy: 0.8492\n",
      "Epoch 187/200\n",
      "12/12 [==============================] - 0s 25ms/step - loss: 0.3668 - accuracy: 0.8497 - val_loss: 0.3998 - val_accuracy: 0.8547\n",
      "Epoch 188/200\n",
      "12/12 [==============================] - 0s 26ms/step - loss: 0.3665 - accuracy: 0.8539 - val_loss: 0.4404 - val_accuracy: 0.8324\n",
      "Epoch 189/200\n",
      "12/12 [==============================] - 0s 26ms/step - loss: 0.3917 - accuracy: 0.8301 - val_loss: 0.4364 - val_accuracy: 0.8268\n",
      "Epoch 190/200\n",
      "12/12 [==============================] - 0s 25ms/step - loss: 0.3702 - accuracy: 0.8469 - val_loss: 0.3529 - val_accuracy: 0.8659\n",
      "Epoch 191/200\n",
      "12/12 [==============================] - 0s 27ms/step - loss: 0.3594 - accuracy: 0.8413 - val_loss: 0.3791 - val_accuracy: 0.8268\n",
      "Epoch 192/200\n",
      "12/12 [==============================] - 0s 25ms/step - loss: 0.3729 - accuracy: 0.8343 - val_loss: 0.3623 - val_accuracy: 0.8436\n",
      "Epoch 193/200\n",
      "12/12 [==============================] - 0s 26ms/step - loss: 0.3516 - accuracy: 0.8539 - val_loss: 0.4192 - val_accuracy: 0.8492\n",
      "Epoch 194/200\n",
      "12/12 [==============================] - 0s 26ms/step - loss: 0.3456 - accuracy: 0.8511 - val_loss: 0.3793 - val_accuracy: 0.8603\n",
      "Epoch 195/200\n",
      "12/12 [==============================] - 0s 26ms/step - loss: 0.3971 - accuracy: 0.8216 - val_loss: 0.5745 - val_accuracy: 0.8212\n",
      "Epoch 196/200\n",
      "12/12 [==============================] - 0s 25ms/step - loss: 0.4362 - accuracy: 0.7992 - val_loss: 0.3748 - val_accuracy: 0.8492\n",
      "Epoch 197/200\n",
      "12/12 [==============================] - 0s 26ms/step - loss: 0.3925 - accuracy: 0.8301 - val_loss: 0.3531 - val_accuracy: 0.8715\n",
      "Epoch 198/200\n",
      "12/12 [==============================] - 0s 26ms/step - loss: 0.3702 - accuracy: 0.8441 - val_loss: 0.3544 - val_accuracy: 0.8771\n",
      "Epoch 199/200\n",
      "12/12 [==============================] - 0s 26ms/step - loss: 0.3648 - accuracy: 0.8441 - val_loss: 0.3870 - val_accuracy: 0.8547\n",
      "Epoch 200/200\n",
      "12/12 [==============================] - 0s 25ms/step - loss: 0.3547 - accuracy: 0.8511 - val_loss: 0.3485 - val_accuracy: 0.8324\n"
     ]
    },
    {
     "data": {
      "text/plain": [
       "<tensorflow.python.keras.callbacks.History at 0x1aa38168448>"
      ]
     },
     "execution_count": 101,
     "metadata": {},
     "output_type": "execute_result"
    }
   ],
   "source": [
    "model.fit(X_train, Y_train, validation_split=0.2, batch_size=64, epochs=200, verbose=1, shuffle=True)"
   ]
  },
  {
   "cell_type": "code",
   "execution_count": 102,
   "metadata": {},
   "outputs": [
    {
     "data": {
      "image/png": "[encoded data removed]",
      "text/plain": [
       "<Figure size 432x288 with 1 Axes>"
      ]
     },
     "metadata": {
      "needs_background": "light"
     },
     "output_type": "display_data"
    }
   ],
   "source": [
    "import matplotlib.pyplot as plt\n",
    "\n",
    "plt.plot(model.history.history['accuracy'])\n",
    "plt.plot(model.history.history['val_accuracy'])\n",
    "plt.title('model accuracy')\n",
    "plt.ylabel('accuracy')\n",
    "plt.xlabel('epoch')\n",
    "plt.legend(['train', 'val'], loc='upper left')\n",
    "plt.show()"
   ]
  },
  {
   "cell_type": "code",
   "execution_count": 103,
   "metadata": {},
   "outputs": [
    {
     "data": {
      "image/png": "[encoded data removed]",
      "text/plain": [
       "<Figure size 432x288 with 1 Axes>"
      ]
     },
     "metadata": {
      "needs_background": "light"
     },
     "output_type": "display_data"
    }
   ],
   "source": [
    "plt.plot(model.history.history['loss'])\n",
    "plt.plot(model.history.history['val_loss'])\n",
    "plt.title('model loss')\n",
    "plt.ylabel('loss')\n",
    "plt.xlabel('epoch')\n",
    "plt.legend(['train', 'val'], loc='upper left')\n",
    "plt.show()"
   ]
  },
  {
   "cell_type": "code",
   "execution_count": 104,
   "metadata": {},
   "outputs": [],
   "source": [
    "ann_preds = model.predict(X_test)"
   ]
  },
  {
   "cell_type": "code",
   "execution_count": 105,
   "metadata": {},
   "outputs": [],
   "source": [
    "ann_preds = np.argmax(ann_preds, axis=-1)\n",
    "# ann_preds = np.where(ann_preds>=0.5, 1, 0)"
   ]
  },
  {
   "cell_type": "code",
   "execution_count": 106,
   "metadata": {},
   "outputs": [
    {
     "name": "stdout",
     "output_type": "stream",
     "text": [
      "<class 'numpy.ndarray'>\n"
     ]
    }
   ],
   "source": [
    "print(type(ann_preds))"
   ]
  },
  {
   "cell_type": "code",
   "execution_count": 107,
   "metadata": {},
   "outputs": [
    {
     "name": "stdout",
     "output_type": "stream",
     "text": [
      "<class 'pandas.core.series.Series'>\n"
     ]
    }
   ],
   "source": [
    "print(type(test_passenger_vals))"
   ]
  },
  {
   "cell_type": "code",
   "execution_count": 108,
   "metadata": {},
   "outputs": [
    {
     "data": {
      "text/plain": [
       "array([1, 1, 1, 1, 1, 1, 1, 1, 1, 1, 1, 1, 1, 1, 1, 1, 1, 1, 1, 1, 1, 1,\n",
       "       1, 1, 1, 1, 1, 1, 1, 1, 1, 1, 1, 1, 1, 1, 1, 1, 1, 1, 1, 1, 1, 1,\n",
       "       1, 1, 1, 1, 1, 1, 1, 1, 1, 1, 1, 1, 1, 1, 1, 1, 1, 1, 1, 1, 1, 1,\n",
       "       1, 1, 1, 1, 1, 1, 1, 1, 1, 1, 1, 1, 1, 1, 1, 0, 1, 1, 1, 1, 1, 1,\n",
       "       1, 1, 1, 1, 1, 1, 1, 1, 1, 1, 1, 1, 1, 1, 1, 1, 1, 1, 1, 1, 1, 1,\n",
       "       1, 1, 1, 1, 1, 1, 1, 1, 1, 1, 1, 1, 1, 1, 1, 1, 1, 1, 1, 1, 1, 1,\n",
       "       1, 1, 1, 1, 1, 1, 1, 1, 1, 1, 0, 1, 1, 1, 1, 1, 1, 1, 1, 1, 1, 1,\n",
       "       1, 1, 1, 1, 1, 1, 1, 1, 1, 1, 1, 1, 1, 1, 1, 1, 1, 1, 1, 1, 1, 1,\n",
       "       1, 1, 1, 1, 1, 1, 1, 1, 1, 1, 1, 1, 1, 1, 1, 1, 1, 1, 1, 1, 1, 1,\n",
       "       1, 1, 1, 1, 1, 1, 1, 1, 1, 1, 1, 1, 1, 1, 1, 1, 1, 1, 1, 0, 1, 1,\n",
       "       1, 1, 1, 1, 1, 1, 1, 1, 1, 1, 1, 1, 1, 1, 1, 1, 1, 1, 1, 1, 1, 1,\n",
       "       1, 1, 1, 1, 1, 1, 1, 1, 1, 1, 1, 1, 1, 1, 1, 1, 1, 1, 1, 1, 1, 1,\n",
       "       1, 1, 1, 1, 1, 1, 1, 1, 1, 1, 1, 1, 1, 1, 1, 1, 1, 1, 1, 1, 1, 1,\n",
       "       1, 1, 1, 1, 1, 1, 1, 1, 1, 1, 1, 1, 1, 1, 1, 1, 1, 1, 1, 1, 1, 1,\n",
       "       1, 1, 1, 1, 1, 1, 1, 1, 1, 1, 1, 1, 1, 1, 1, 1, 1, 1, 1, 1, 1, 1,\n",
       "       1, 1, 1, 1, 1, 1, 1, 1, 1, 1, 1, 1, 0, 1, 1, 1, 1, 1, 1, 1, 1, 1,\n",
       "       1, 1, 1, 1, 1, 1, 1, 1, 1, 1, 1, 1, 1, 1, 1, 1, 1, 1, 1, 1, 1, 1,\n",
       "       1, 1, 1, 1, 1, 1, 1, 1, 1, 1, 1, 1, 1, 1, 1, 1, 1, 1, 1, 1, 1, 1,\n",
       "       1, 1, 1, 1, 1, 1, 1, 1, 1, 1, 1, 1, 1, 1, 1, 1, 1, 1, 1, 1, 1, 1],\n",
       "      dtype=int64)"
      ]
     },
     "execution_count": 108,
     "metadata": {},
     "output_type": "execute_result"
    }
   ],
   "source": [
    "ann_preds"
   ]
  },
  {
   "cell_type": "code",
   "execution_count": 109,
   "metadata": {},
   "outputs": [],
   "source": [
    "ann_sub = pd.DataFrame(ann_preds, columns=[\"Survived\"])\n",
    "# ann_sub.set_index(\"Survived\", inplace=True)"
   ]
  },
  {
   "cell_type": "code",
   "execution_count": 110,
   "metadata": {},
   "outputs": [
    {
     "data": {
      "text/html": [
       "<div>\n",
       "<style scoped>\n",
       "    .dataframe tbody tr th:only-of-type {\n",
       "        vertical-align: middle;\n",
       "    }\n",
       "\n",
       "    .dataframe tbody tr th {\n",
       "        vertical-align: top;\n",
       "    }\n",
       "\n",
       "    .dataframe thead th {\n",
       "        text-align: right;\n",
       "    }\n",
       "</style>\n",
       "<table border=\"1\" class=\"dataframe\">\n",
       "  <thead>\n",
       "    <tr style=\"text-align: right;\">\n",
       "      <th></th>\n",
       "      <th>Survived</th>\n",
       "    </tr>\n",
       "  </thead>\n",
       "  <tbody>\n",
       "    <tr>\n",
       "      <th>0</th>\n",
       "      <td>1</td>\n",
       "    </tr>\n",
       "    <tr>\n",
       "      <th>1</th>\n",
       "      <td>1</td>\n",
       "    </tr>\n",
       "    <tr>\n",
       "      <th>2</th>\n",
       "      <td>1</td>\n",
       "    </tr>\n",
       "    <tr>\n",
       "      <th>3</th>\n",
       "      <td>1</td>\n",
       "    </tr>\n",
       "    <tr>\n",
       "      <th>4</th>\n",
       "      <td>1</td>\n",
       "    </tr>\n",
       "    <tr>\n",
       "      <th>5</th>\n",
       "      <td>1</td>\n",
       "    </tr>\n",
       "    <tr>\n",
       "      <th>6</th>\n",
       "      <td>1</td>\n",
       "    </tr>\n",
       "    <tr>\n",
       "      <th>7</th>\n",
       "      <td>1</td>\n",
       "    </tr>\n",
       "    <tr>\n",
       "      <th>8</th>\n",
       "      <td>1</td>\n",
       "    </tr>\n",
       "    <tr>\n",
       "      <th>9</th>\n",
       "      <td>1</td>\n",
       "    </tr>\n",
       "    <tr>\n",
       "      <th>10</th>\n",
       "      <td>1</td>\n",
       "    </tr>\n",
       "    <tr>\n",
       "      <th>11</th>\n",
       "      <td>1</td>\n",
       "    </tr>\n",
       "    <tr>\n",
       "      <th>12</th>\n",
       "      <td>1</td>\n",
       "    </tr>\n",
       "    <tr>\n",
       "      <th>13</th>\n",
       "      <td>1</td>\n",
       "    </tr>\n",
       "    <tr>\n",
       "      <th>14</th>\n",
       "      <td>1</td>\n",
       "    </tr>\n",
       "    <tr>\n",
       "      <th>15</th>\n",
       "      <td>1</td>\n",
       "    </tr>\n",
       "    <tr>\n",
       "      <th>16</th>\n",
       "      <td>1</td>\n",
       "    </tr>\n",
       "    <tr>\n",
       "      <th>17</th>\n",
       "      <td>1</td>\n",
       "    </tr>\n",
       "    <tr>\n",
       "      <th>18</th>\n",
       "      <td>1</td>\n",
       "    </tr>\n",
       "    <tr>\n",
       "      <th>19</th>\n",
       "      <td>1</td>\n",
       "    </tr>\n",
       "    <tr>\n",
       "      <th>20</th>\n",
       "      <td>1</td>\n",
       "    </tr>\n",
       "    <tr>\n",
       "      <th>21</th>\n",
       "      <td>1</td>\n",
       "    </tr>\n",
       "    <tr>\n",
       "      <th>22</th>\n",
       "      <td>1</td>\n",
       "    </tr>\n",
       "    <tr>\n",
       "      <th>23</th>\n",
       "      <td>1</td>\n",
       "    </tr>\n",
       "    <tr>\n",
       "      <th>24</th>\n",
       "      <td>1</td>\n",
       "    </tr>\n",
       "    <tr>\n",
       "      <th>25</th>\n",
       "      <td>1</td>\n",
       "    </tr>\n",
       "    <tr>\n",
       "      <th>26</th>\n",
       "      <td>1</td>\n",
       "    </tr>\n",
       "    <tr>\n",
       "      <th>27</th>\n",
       "      <td>1</td>\n",
       "    </tr>\n",
       "    <tr>\n",
       "      <th>28</th>\n",
       "      <td>1</td>\n",
       "    </tr>\n",
       "    <tr>\n",
       "      <th>29</th>\n",
       "      <td>1</td>\n",
       "    </tr>\n",
       "  </tbody>\n",
       "</table>\n",
       "</div>"
      ],
      "text/plain": [
       "    Survived\n",
       "0          1\n",
       "1          1\n",
       "2          1\n",
       "3          1\n",
       "4          1\n",
       "5          1\n",
       "6          1\n",
       "7          1\n",
       "8          1\n",
       "9          1\n",
       "10         1\n",
       "11         1\n",
       "12         1\n",
       "13         1\n",
       "14         1\n",
       "15         1\n",
       "16         1\n",
       "17         1\n",
       "18         1\n",
       "19         1\n",
       "20         1\n",
       "21         1\n",
       "22         1\n",
       "23         1\n",
       "24         1\n",
       "25         1\n",
       "26         1\n",
       "27         1\n",
       "28         1\n",
       "29         1"
      ]
     },
     "execution_count": 110,
     "metadata": {},
     "output_type": "execute_result"
    }
   ],
   "source": [
    "ann_sub.head(30)"
   ]
  },
  {
   "cell_type": "code",
   "execution_count": 111,
   "metadata": {},
   "outputs": [],
   "source": [
    "pass_df = pd.DataFrame(test_passenger_vals, columns=[\"PassengerId\"])\n",
    "# pass_df.set_index(\"PassengerId\", inplace=True)"
   ]
  },
  {
   "cell_type": "code",
   "execution_count": 112,
   "metadata": {},
   "outputs": [
    {
     "data": {
      "text/html": [
       "<div>\n",
       "<style scoped>\n",
       "    .dataframe tbody tr th:only-of-type {\n",
       "        vertical-align: middle;\n",
       "    }\n",
       "\n",
       "    .dataframe tbody tr th {\n",
       "        vertical-align: top;\n",
       "    }\n",
       "\n",
       "    .dataframe thead th {\n",
       "        text-align: right;\n",
       "    }\n",
       "</style>\n",
       "<table border=\"1\" class=\"dataframe\">\n",
       "  <thead>\n",
       "    <tr style=\"text-align: right;\">\n",
       "      <th></th>\n",
       "      <th>PassengerId</th>\n",
       "    </tr>\n",
       "  </thead>\n",
       "  <tbody>\n",
       "    <tr>\n",
       "      <th>0</th>\n",
       "      <td>892</td>\n",
       "    </tr>\n",
       "    <tr>\n",
       "      <th>1</th>\n",
       "      <td>893</td>\n",
       "    </tr>\n",
       "    <tr>\n",
       "      <th>2</th>\n",
       "      <td>894</td>\n",
       "    </tr>\n",
       "    <tr>\n",
       "      <th>3</th>\n",
       "      <td>895</td>\n",
       "    </tr>\n",
       "    <tr>\n",
       "      <th>4</th>\n",
       "      <td>896</td>\n",
       "    </tr>\n",
       "    <tr>\n",
       "      <th>...</th>\n",
       "      <td>...</td>\n",
       "    </tr>\n",
       "    <tr>\n",
       "      <th>413</th>\n",
       "      <td>1305</td>\n",
       "    </tr>\n",
       "    <tr>\n",
       "      <th>414</th>\n",
       "      <td>1306</td>\n",
       "    </tr>\n",
       "    <tr>\n",
       "      <th>415</th>\n",
       "      <td>1307</td>\n",
       "    </tr>\n",
       "    <tr>\n",
       "      <th>416</th>\n",
       "      <td>1308</td>\n",
       "    </tr>\n",
       "    <tr>\n",
       "      <th>417</th>\n",
       "      <td>1309</td>\n",
       "    </tr>\n",
       "  </tbody>\n",
       "</table>\n",
       "<p>418 rows × 1 columns</p>\n",
       "</div>"
      ],
      "text/plain": [
       "     PassengerId\n",
       "0            892\n",
       "1            893\n",
       "2            894\n",
       "3            895\n",
       "4            896\n",
       "..           ...\n",
       "413         1305\n",
       "414         1306\n",
       "415         1307\n",
       "416         1308\n",
       "417         1309\n",
       "\n",
       "[418 rows x 1 columns]"
      ]
     },
     "execution_count": 112,
     "metadata": {},
     "output_type": "execute_result"
    }
   ],
   "source": [
    "pass_df"
   ]
  },
  {
   "cell_type": "code",
   "execution_count": 113,
   "metadata": {},
   "outputs": [],
   "source": [
    "ann_new = pd.concat([pass_df, ann_sub], axis=1)"
   ]
  },
  {
   "cell_type": "code",
   "execution_count": 114,
   "metadata": {},
   "outputs": [],
   "source": [
    "ann_new.set_index(\"PassengerId\", inplace=True)"
   ]
  },
  {
   "cell_type": "code",
   "execution_count": 115,
   "metadata": {},
   "outputs": [],
   "source": [
    "ann_new.to_csv(r'C:\\Users\\Vicky\\Desktop\\Projects\\Titanic\\ANN_Submission.csv')"
   ]
  },
  {
   "cell_type": "markdown",
   "metadata": {},
   "source": [
    "# SVM Classifier"
   ]
  },
  {
   "cell_type": "code",
   "execution_count": 116,
   "metadata": {},
   "outputs": [],
   "source": [
    "from sklearn.svm import SVC"
   ]
  },
  {
   "cell_type": "code",
   "execution_count": 117,
   "metadata": {},
   "outputs": [],
   "source": [
    "SVC_classifier = SVC(C=10.0, gamma=0.05)"
   ]
  },
  {
   "cell_type": "code",
   "execution_count": 118,
   "metadata": {},
   "outputs": [
    {
     "data": {
      "text/plain": [
       "SVC(C=10.0, gamma=0.05)"
      ]
     },
     "execution_count": 118,
     "metadata": {},
     "output_type": "execute_result"
    }
   ],
   "source": [
    "SVC_classifier.fit(train_data, train_labels)"
   ]
  },
  {
   "cell_type": "code",
   "execution_count": 119,
   "metadata": {},
   "outputs": [],
   "source": [
    "svc_preds = SVC_classifier.predict(test_data)"
   ]
  },
  {
   "cell_type": "code",
   "execution_count": 120,
   "metadata": {},
   "outputs": [],
   "source": [
    "svc_data = {\"PassengerId\":test_passenger_vals, \"Survived\":svc_preds}\n",
    "svc_sub = pd.DataFrame(svc_data, columns=[\"PassengerId\", \"Survived\"])\n",
    "svc_sub.set_index(\"PassengerId\", inplace=True)"
   ]
  },
  {
   "cell_type": "code",
   "execution_count": 121,
   "metadata": {},
   "outputs": [],
   "source": [
    "svc_sub.to_csv(r'C:\\Users\\Vicky\\Desktop\\Projects\\Titanic\\SVM_Submission.csv')"
   ]
  },
  {
   "cell_type": "markdown",
   "metadata": {},
   "source": [
    "# GridsearchCV"
   ]
  },
  {
   "cell_type": "code",
   "execution_count": 122,
   "metadata": {},
   "outputs": [],
   "source": [
    "parameters = {'C': [0.1, 1, 10, 100, 1000],  \n",
    "              'gamma': [1, 0.1, 0.01, 0.001, 0.0001], \n",
    "              'kernel': ['rbf']}"
   ]
  },
  {
   "cell_type": "code",
   "execution_count": 123,
   "metadata": {},
   "outputs": [],
   "source": [
    "clf = GridSearchCV(SVC_classifier, parameters)"
   ]
  },
  {
   "cell_type": "code",
   "execution_count": 124,
   "metadata": {},
   "outputs": [],
   "source": [
    "grid_search = clf.fit(train_data, train_labels)"
   ]
  },
  {
   "cell_type": "code",
   "execution_count": 125,
   "metadata": {},
   "outputs": [
    {
     "name": "stdout",
     "output_type": "stream",
     "text": [
      "Best score: 0.837\n",
      "SVC(C=1000, gamma=0.001)\n"
     ]
    }
   ],
   "source": [
    "print(\"Best score: %0.3f\" % grid_search.best_score_)\n",
    "print(grid_search.best_estimator_)"
   ]
  },
  {
   "cell_type": "markdown",
   "metadata": {},
   "source": [
    "# Random Forest Classifier"
   ]
  },
  {
   "cell_type": "code",
   "execution_count": 126,
   "metadata": {},
   "outputs": [],
   "source": [
    "from sklearn.ensemble import RandomForestClassifier"
   ]
  },
  {
   "cell_type": "code",
   "execution_count": 127,
   "metadata": {},
   "outputs": [],
   "source": [
    "Rf_classifier = RandomForestClassifier(max_depth=10)"
   ]
  },
  {
   "cell_type": "code",
   "execution_count": 128,
   "metadata": {},
   "outputs": [
    {
     "data": {
      "text/plain": [
       "RandomForestClassifier(max_depth=10)"
      ]
     },
     "execution_count": 128,
     "metadata": {},
     "output_type": "execute_result"
    }
   ],
   "source": [
    "Rf_classifier.fit(train_data, train_labels)"
   ]
  },
  {
   "cell_type": "code",
   "execution_count": 129,
   "metadata": {},
   "outputs": [],
   "source": [
    "Rf_preds = Rf_classifier.predict(test_data)"
   ]
  },
  {
   "cell_type": "code",
   "execution_count": 130,
   "metadata": {},
   "outputs": [],
   "source": [
    "rf_data = {\"PassengerId\":test_passenger_vals, \"Survived\":Rf_preds}\n",
    "rf_sub = pd.DataFrame(rf_data, columns=[\"PassengerId\", \"Survived\"])\n",
    "rf_sub.set_index(\"PassengerId\", inplace=True)\n",
    "rf_sub.to_csv(r'C:\\Users\\Vicky\\Desktop\\Projects\\Titanic\\RF_Submission.csv')"
   ]
  },
  {
   "cell_type": "code",
   "execution_count": 131,
   "metadata": {},
   "outputs": [],
   "source": [
    "# param_grid = { \n",
    "#     'n_estimators': [100, 200, 500, 1000, 1500],\n",
    "#     'max_features': ['auto', 'sqrt', 'log2'],\n",
    "#     'max_depth' : [4,5,6,7,8, 10, 15, 20],\n",
    "#     'criterion' :['gini', 'entropy']\n",
    "# }"
   ]
  },
  {
   "cell_type": "code",
   "execution_count": 132,
   "metadata": {},
   "outputs": [],
   "source": [
    "# rf_grid_clf = GridSearchCV(estimator=Rf_classifier, param_grid=param_grid, cv=5)"
   ]
  },
  {
   "cell_type": "code",
   "execution_count": 133,
   "metadata": {},
   "outputs": [],
   "source": [
    "# rf_grid_clf.fit(train_data, train_labels)"
   ]
  },
  {
   "cell_type": "code",
   "execution_count": 134,
   "metadata": {},
   "outputs": [],
   "source": [
    "# print(\"Best score: %0.3f\" % rf_grid_clf.best_score_)\n",
    "# print(rf_grid_clf.best_estimator_)"
   ]
  },
  {
   "cell_type": "markdown",
   "metadata": {},
   "source": [
    "# Adaboost Classifier"
   ]
  },
  {
   "cell_type": "code",
   "execution_count": 135,
   "metadata": {},
   "outputs": [],
   "source": [
    "from sklearn.ensemble import AdaBoostClassifier"
   ]
  },
  {
   "cell_type": "code",
   "execution_count": 136,
   "metadata": {},
   "outputs": [],
   "source": [
    "abc = AdaBoostClassifier()"
   ]
  },
  {
   "cell_type": "code",
   "execution_count": 137,
   "metadata": {},
   "outputs": [
    {
     "data": {
      "text/plain": [
       "AdaBoostClassifier()"
      ]
     },
     "execution_count": 137,
     "metadata": {},
     "output_type": "execute_result"
    }
   ],
   "source": [
    "abc.fit(train_data, train_labels)"
   ]
  },
  {
   "cell_type": "code",
   "execution_count": 138,
   "metadata": {},
   "outputs": [
    {
     "data": {
      "text/plain": [
       "array([0, 1, 0, 0, 1, 0, 1, 0, 1, 0, 0, 0, 1, 0, 1, 1, 0, 0, 1, 1, 0, 0,\n",
       "       1, 1, 1, 0, 1, 0, 0, 0, 0, 0, 1, 1, 1, 0, 1, 1, 0, 0, 0, 0, 0, 1,\n",
       "       1, 0, 0, 0, 1, 1, 1, 0, 1, 1, 0, 0, 0, 0, 0, 1, 0, 0, 0, 1, 1, 1,\n",
       "       1, 0, 0, 1, 1, 0, 1, 0, 1, 0, 0, 1, 0, 1, 1, 0, 0, 0, 0, 0, 1, 1,\n",
       "       1, 1, 1, 0, 1, 0, 0, 0, 0, 0, 1, 0, 1, 0, 0, 0, 1, 0, 0, 0, 0, 0,\n",
       "       0, 1, 1, 1, 1, 0, 0, 1, 1, 1, 1, 0, 1, 0, 0, 1, 0, 1, 0, 0, 0, 1,\n",
       "       0, 0, 0, 0, 0, 0, 1, 0, 0, 1, 1, 0, 0, 0, 0, 0, 0, 1, 1, 0, 0, 1,\n",
       "       0, 0, 1, 1, 0, 1, 1, 1, 1, 0, 0, 1, 0, 0, 1, 1, 0, 0, 0, 0, 0, 1,\n",
       "       1, 0, 1, 0, 0, 0, 1, 0, 1, 0, 1, 0, 0, 0, 0, 0, 1, 0, 1, 0, 1, 1,\n",
       "       0, 1, 1, 1, 1, 1, 0, 0, 1, 0, 1, 0, 0, 0, 0, 1, 0, 0, 1, 0, 1, 0,\n",
       "       1, 0, 1, 0, 1, 1, 0, 1, 0, 0, 0, 1, 0, 0, 0, 0, 0, 0, 1, 1, 1, 1,\n",
       "       0, 0, 1, 0, 1, 0, 1, 1, 1, 0, 0, 0, 0, 0, 0, 0, 1, 0, 0, 0, 1, 1,\n",
       "       0, 0, 0, 0, 1, 0, 1, 0, 1, 1, 0, 1, 0, 0, 0, 0, 1, 1, 1, 0, 1, 0,\n",
       "       0, 1, 0, 0, 0, 0, 0, 1, 0, 0, 1, 0, 0, 0, 0, 0, 0, 0, 1, 0, 0, 1,\n",
       "       0, 0, 0, 0, 0, 1, 1, 1, 0, 0, 0, 0, 0, 0, 0, 0, 1, 0, 1, 1, 0, 0,\n",
       "       1, 0, 0, 1, 0, 0, 0, 0, 0, 1, 0, 0, 0, 1, 1, 1, 0, 1, 0, 1, 1, 0,\n",
       "       0, 0, 1, 0, 1, 0, 0, 1, 0, 1, 1, 0, 1, 0, 0, 1, 1, 0, 0, 1, 0, 0,\n",
       "       1, 1, 0, 0, 0, 0, 0, 0, 1, 1, 0, 1, 0, 0, 0, 0, 1, 1, 1, 0, 0, 1,\n",
       "       0, 1, 0, 0, 1, 0, 1, 0, 0, 0, 0, 0, 1, 1, 1, 1, 1, 0, 1, 0, 0, 1],\n",
       "      dtype=int64)"
      ]
     },
     "execution_count": 138,
     "metadata": {},
     "output_type": "execute_result"
    }
   ],
   "source": [
    "abc.predict(test_data)"
   ]
  },
  {
   "cell_type": "code",
   "execution_count": 139,
   "metadata": {},
   "outputs": [],
   "source": [
    "abc_grid={'n_estimators':[250,500,1000,2000],'learning_rate':[.0001,.001,0.01,.1]}"
   ]
  },
  {
   "cell_type": "code",
   "execution_count": 140,
   "metadata": {},
   "outputs": [],
   "source": [
    "from sklearn.model_selection import KFold"
   ]
  },
  {
   "cell_type": "code",
   "execution_count": 141,
   "metadata": {},
   "outputs": [],
   "source": [
    "cross_val = KFold(n_splits=10,shuffle=True,random_state=1)\n",
    "abc_grid_clf = GridSearchCV(estimator=abc, param_grid=abc_grid, scoring='accuracy', n_jobs=1, cv=cross_val)"
   ]
  },
  {
   "cell_type": "code",
   "execution_count": 142,
   "metadata": {},
   "outputs": [
    {
     "data": {
      "text/plain": [
       "GridSearchCV(cv=KFold(n_splits=10, random_state=1, shuffle=True),\n",
       "             estimator=AdaBoostClassifier(), n_jobs=1,\n",
       "             param_grid={'learning_rate': [0.0001, 0.001, 0.01, 0.1],\n",
       "                         'n_estimators': [250, 500, 1000, 2000]},\n",
       "             scoring='accuracy')"
      ]
     },
     "execution_count": 142,
     "metadata": {},
     "output_type": "execute_result"
    }
   ],
   "source": [
    "abc_grid_clf.fit(train_data, train_labels)"
   ]
  },
  {
   "cell_type": "code",
   "execution_count": 143,
   "metadata": {},
   "outputs": [
    {
     "name": "stdout",
     "output_type": "stream",
     "text": [
      "Best score: 0.822\n",
      "AdaBoostClassifier(learning_rate=0.01, n_estimators=2000)\n"
     ]
    }
   ],
   "source": [
    "print(\"Best score: %0.3f\" % abc_grid_clf.best_score_)\n",
    "print(abc_grid_clf.best_estimator_)"
   ]
  },
  {
   "cell_type": "code",
   "execution_count": 144,
   "metadata": {},
   "outputs": [],
   "source": [
    "new_ada = AdaBoostClassifier(learning_rate=0.1, n_estimators=250)\n",
    "new_ada.fit(train_data, train_labels)\n",
    "ada_preds = new_ada.predict(test_data)"
   ]
  },
  {
   "cell_type": "code",
   "execution_count": 145,
   "metadata": {},
   "outputs": [],
   "source": [
    "ada_data = {\"PassengerId\":test_passenger_vals, \"Survived\":ada_preds}\n",
    "ada_sub = pd.DataFrame(ada_data, columns=[\"PassengerId\", \"Survived\"])\n",
    "ada_sub.set_index(\"PassengerId\", inplace=True)\n",
    "ada_sub.to_csv(r'C:\\Users\\Vicky\\Desktop\\Projects\\Titanic\\ADABoost_Submission.csv')"
   ]
  },
  {
   "cell_type": "markdown",
   "metadata": {},
   "source": [
    "# XGBoost Classifier"
   ]
  },
  {
   "cell_type": "code",
   "execution_count": 146,
   "metadata": {},
   "outputs": [],
   "source": [
    "import xgboost as xgb"
   ]
  },
  {
   "cell_type": "code",
   "execution_count": 147,
   "metadata": {},
   "outputs": [],
   "source": [
    "from sklearn.model_selection import StratifiedKFold"
   ]
  },
  {
   "cell_type": "code",
   "execution_count": 148,
   "metadata": {},
   "outputs": [],
   "source": [
    "data_dmat = xgb.DMatrix(data=train_data, label=train_labels)"
   ]
  },
  {
   "cell_type": "code",
   "execution_count": 149,
   "metadata": {},
   "outputs": [],
   "source": [
    "xgb_clf = xgb.XGBClassifier()"
   ]
  },
  {
   "cell_type": "code",
   "execution_count": 150,
   "metadata": {},
   "outputs": [
    {
     "data": {
      "text/plain": [
       "XGBClassifier(base_score=0.5, booster='gbtree', colsample_bylevel=1,\n",
       "              colsample_bynode=1, colsample_bytree=1, gamma=0, gpu_id=-1,\n",
       "              importance_type='gain', interaction_constraints='',\n",
       "              learning_rate=0.300000012, max_delta_step=0, max_depth=6,\n",
       "              min_child_weight=1, missing=nan, monotone_constraints='()',\n",
       "              n_estimators=100, n_jobs=0, num_parallel_tree=1, random_state=0,\n",
       "              reg_alpha=0, reg_lambda=1, scale_pos_weight=1, subsample=1,\n",
       "              tree_method='exact', validate_parameters=1, verbosity=None)"
      ]
     },
     "execution_count": 150,
     "metadata": {},
     "output_type": "execute_result"
    }
   ],
   "source": [
    "xgb_clf.fit(train_data, train_labels)"
   ]
  },
  {
   "cell_type": "code",
   "execution_count": 151,
   "metadata": {},
   "outputs": [
    {
     "data": {
      "text/plain": [
       "array([0, 0, 0, 0, 1, 0, 0, 0, 1, 0, 0, 0, 1, 0, 1, 1, 0, 0, 1, 0, 0, 1,\n",
       "       1, 1, 1, 0, 1, 0, 1, 0, 0, 0, 1, 0, 1, 0, 0, 0, 0, 1, 0, 1, 0, 1,\n",
       "       1, 0, 0, 0, 1, 1, 0, 0, 1, 1, 0, 0, 0, 0, 0, 1, 0, 1, 0, 1, 1, 1,\n",
       "       1, 0, 0, 1, 1, 0, 0, 0, 1, 1, 0, 1, 0, 1, 1, 0, 0, 0, 0, 0, 1, 1,\n",
       "       0, 1, 1, 0, 1, 0, 1, 0, 1, 0, 0, 0, 1, 0, 0, 0, 1, 0, 0, 0, 0, 0,\n",
       "       0, 0, 1, 1, 1, 0, 0, 1, 1, 1, 1, 0, 1, 0, 0, 1, 0, 1, 0, 0, 0, 0,\n",
       "       0, 0, 0, 0, 1, 0, 0, 0, 0, 1, 0, 0, 1, 0, 0, 0, 1, 0, 1, 0, 0, 1,\n",
       "       0, 0, 1, 0, 1, 1, 0, 1, 1, 0, 0, 0, 0, 0, 1, 0, 0, 1, 0, 0, 0, 1,\n",
       "       1, 0, 1, 1, 0, 1, 1, 0, 1, 0, 1, 1, 0, 0, 0, 0, 1, 0, 1, 0, 1, 0,\n",
       "       0, 1, 0, 1, 0, 1, 0, 0, 0, 0, 1, 0, 0, 0, 0, 1, 0, 0, 0, 0, 1, 0,\n",
       "       1, 0, 1, 0, 1, 0, 0, 0, 0, 0, 0, 1, 0, 0, 1, 0, 0, 1, 1, 1, 1, 1,\n",
       "       0, 0, 0, 0, 1, 0, 1, 0, 1, 0, 0, 0, 0, 0, 0, 0, 1, 0, 0, 0, 1, 1,\n",
       "       0, 0, 0, 0, 0, 0, 0, 0, 1, 0, 0, 1, 0, 0, 0, 0, 0, 1, 0, 0, 1, 0,\n",
       "       0, 0, 0, 0, 0, 0, 0, 0, 0, 0, 1, 0, 0, 0, 0, 0, 0, 0, 0, 1, 0, 1,\n",
       "       0, 0, 0, 0, 0, 0, 1, 1, 0, 0, 1, 0, 0, 0, 0, 1, 1, 0, 1, 0, 0, 0,\n",
       "       1, 0, 0, 1, 0, 0, 1, 0, 0, 1, 0, 0, 0, 1, 1, 1, 0, 0, 0, 1, 1, 0,\n",
       "       0, 0, 1, 0, 1, 0, 0, 1, 0, 1, 1, 0, 1, 0, 0, 0, 1, 1, 0, 1, 0, 0,\n",
       "       1, 1, 0, 0, 0, 1, 0, 0, 0, 1, 0, 1, 0, 0, 0, 0, 0, 1, 1, 0, 0, 1,\n",
       "       0, 1, 0, 0, 1, 0, 1, 0, 0, 0, 0, 0, 0, 1, 0, 1, 0, 0, 1, 0, 0, 1],\n",
       "      dtype=int64)"
      ]
     },
     "execution_count": 151,
     "metadata": {},
     "output_type": "execute_result"
    }
   ],
   "source": [
    "xgb_clf.predict(test_data)"
   ]
  },
  {
   "cell_type": "code",
   "execution_count": 152,
   "metadata": {},
   "outputs": [],
   "source": [
    "xgbparameters = {'nthread':[4], #when use hyperthread, xgboost may become slower\n",
    "              'objective':['binary:logistic'],\n",
    "              'learning_rate': [0.05, 0.001, 0.1, 0.01], #so called `eta` value\n",
    "              'max_depth': [6],\n",
    "              'min_child_weight': [11],\n",
    "              'silent': [1],\n",
    "              'subsample': [0.8],\n",
    "              'colsample_bytree': [0.7],\n",
    "              'n_estimators': [5, 50, 100, 500, 1000], #number of trees, change it to 1000 for better results\n",
    "              'missing':[-999],\n",
    "              'seed': [1337]}"
   ]
  },
  {
   "cell_type": "code",
   "execution_count": 153,
   "metadata": {},
   "outputs": [],
   "source": [
    "xgb_grid = GridSearchCV(xgb_clf, xgbparameters, n_jobs=5, \n",
    "                   cv=StratifiedKFold(n_splits=5, shuffle=True), \n",
    "                   scoring='roc_auc',\n",
    "                   verbose=2, refit=True)"
   ]
  },
  {
   "cell_type": "code",
   "execution_count": 154,
   "metadata": {},
   "outputs": [
    {
     "name": "stdout",
     "output_type": "stream",
     "text": [
      "Fitting 5 folds for each of 20 candidates, totalling 100 fits\n"
     ]
    },
    {
     "name": "stderr",
     "output_type": "stream",
     "text": [
      "[Parallel(n_jobs=5)]: Using backend LokyBackend with 5 concurrent workers.\n",
      "[Parallel(n_jobs=5)]: Done  31 tasks      | elapsed:    3.3s\n",
      "[Parallel(n_jobs=5)]: Done 100 out of 100 | elapsed:    7.5s finished\n"
     ]
    },
    {
     "name": "stdout",
     "output_type": "stream",
     "text": [
      "[18:37:52] WARNING: C:\\Users\\Administrator\\workspace\\xgboost-win64_release_1.2.0\\src\\learner.cc:516: \n",
      "Parameters: { silent } might not be used.\n",
      "\n",
      "  This may not be accurate due to some parameters are only used in language bindings but\n",
      "  passed down to XGBoost core.  Or some parameters are not used but slip through this\n",
      "  verification. Please open an issue if you find above cases.\n",
      "\n",
      "\n"
     ]
    },
    {
     "data": {
      "text/plain": [
       "GridSearchCV(cv=StratifiedKFold(n_splits=5, random_state=None, shuffle=True),\n",
       "             estimator=XGBClassifier(base_score=0.5, booster='gbtree',\n",
       "                                     colsample_bylevel=1, colsample_bynode=1,\n",
       "                                     colsample_bytree=1, gamma=0, gpu_id=-1,\n",
       "                                     importance_type='gain',\n",
       "                                     interaction_constraints='',\n",
       "                                     learning_rate=0.300000012,\n",
       "                                     max_delta_step=0, max_depth=6,\n",
       "                                     min_child_weight=1, missing=nan,\n",
       "                                     monoton...\n",
       "                                     tree_method='exact', validate_parameters=1,\n",
       "                                     verbosity=None),\n",
       "             n_jobs=5,\n",
       "             param_grid={'colsample_bytree': [0.7],\n",
       "                         'learning_rate': [0.05, 0.001, 0.1, 0.01],\n",
       "                         'max_depth': [6], 'min_child_weight': [11],\n",
       "                         'missing': [-999],\n",
       "                         'n_estimators': [5, 50, 100, 500, 1000],\n",
       "                         'nthread': [4], 'objective': ['binary:logistic'],\n",
       "                         'seed': [1337], 'silent': [1], 'subsample': [0.8]},\n",
       "             scoring='roc_auc', verbose=2)"
      ]
     },
     "execution_count": 154,
     "metadata": {},
     "output_type": "execute_result"
    }
   ],
   "source": [
    "xgb_grid.fit(train_data, train_labels)"
   ]
  },
  {
   "cell_type": "code",
   "execution_count": 155,
   "metadata": {},
   "outputs": [
    {
     "name": "stdout",
     "output_type": "stream",
     "text": [
      "Best score: 0.877\n",
      "XGBClassifier(base_score=0.5, booster='gbtree', colsample_bylevel=1,\n",
      "              colsample_bynode=1, colsample_bytree=0.7, gamma=0, gpu_id=-1,\n",
      "              importance_type='gain', interaction_constraints='',\n",
      "              learning_rate=0.1, max_delta_step=0, max_depth=6,\n",
      "              min_child_weight=11, missing=-999, monotone_constraints='()',\n",
      "              n_estimators=1000, n_jobs=0, nthread=4, num_parallel_tree=1,\n",
      "              random_state=0, reg_alpha=0, reg_lambda=1, scale_pos_weight=1,\n",
      "              seed=1337, silent=1, subsample=0.8, tree_method='exact',\n",
      "              validate_parameters=1, verbosity=None)\n"
     ]
    }
   ],
   "source": [
    "print(\"Best score: %0.3f\" % xgb_grid.best_score_)\n",
    "print(xgb_grid.best_estimator_)"
   ]
  },
  {
   "cell_type": "code",
   "execution_count": 156,
   "metadata": {},
   "outputs": [],
   "source": [
    "xgb_new = xgb.XGBClassifier(base_score=0.5, booster='gbtree', colsample_bylevel=1,\n",
    "              colsample_bynode=1, colsample_bytree=0.7, gamma=0, gpu_id=-1,\n",
    "              importance_type='gain', interaction_constraints='',\n",
    "              learning_rate=0.1, max_delta_step=0, max_depth=6,\n",
    "              min_child_weight=11, missing=-999, monotone_constraints='()',\n",
    "              n_estimators=1000, n_jobs=0, nthread=4, num_parallel_tree=1,\n",
    "              random_state=0, reg_alpha=0, reg_lambda=1, scale_pos_weight=1,\n",
    "              seed=1337, silent=1, subsample=0.8, tree_method='exact',\n",
    "              validate_parameters=1, verbosity=None)"
   ]
  },
  {
   "cell_type": "code",
   "execution_count": 157,
   "metadata": {},
   "outputs": [
    {
     "name": "stdout",
     "output_type": "stream",
     "text": [
      "[18:37:52] WARNING: C:\\Users\\Administrator\\workspace\\xgboost-win64_release_1.2.0\\src\\learner.cc:516: \n",
      "Parameters: { silent } might not be used.\n",
      "\n",
      "  This may not be accurate due to some parameters are only used in language bindings but\n",
      "  passed down to XGBoost core.  Or some parameters are not used but slip through this\n",
      "  verification. Please open an issue if you find above cases.\n",
      "\n",
      "\n"
     ]
    },
    {
     "data": {
      "text/plain": [
       "XGBClassifier(base_score=0.5, booster='gbtree', colsample_bylevel=1,\n",
       "              colsample_bynode=1, colsample_bytree=0.7, gamma=0, gpu_id=-1,\n",
       "              importance_type='gain', interaction_constraints='',\n",
       "              learning_rate=0.1, max_delta_step=0, max_depth=6,\n",
       "              min_child_weight=11, missing=-999, monotone_constraints='()',\n",
       "              n_estimators=1000, n_jobs=0, nthread=4, num_parallel_tree=1,\n",
       "              random_state=0, reg_alpha=0, reg_lambda=1, scale_pos_weight=1,\n",
       "              seed=1337, silent=1, subsample=0.8, tree_method='exact',\n",
       "              validate_parameters=1, verbosity=None)"
      ]
     },
     "execution_count": 157,
     "metadata": {},
     "output_type": "execute_result"
    }
   ],
   "source": [
    "xgb_new.fit(train_data, train_labels)"
   ]
  },
  {
   "cell_type": "code",
   "execution_count": 158,
   "metadata": {},
   "outputs": [],
   "source": [
    "xgb_preds = xgb_new.predict(test_data)"
   ]
  },
  {
   "cell_type": "code",
   "execution_count": 159,
   "metadata": {},
   "outputs": [],
   "source": [
    "xgb_data = {\"PassengerId\":test_passenger_vals, \"Survived\":xgb_preds}\n",
    "xgb_sub = pd.DataFrame(xgb_data, columns=[\"PassengerId\", \"Survived\"])\n",
    "xgb_sub.set_index(\"PassengerId\", inplace=True)\n",
    "xgb_sub.to_csv(r'C:\\Users\\Vicky\\Desktop\\Projects\\Titanic\\XGBoost_Submission.csv')"
   ]
  },
  {
   "cell_type": "code",
   "execution_count": null,
   "metadata": {},
   "outputs": [],
   "source": []
  }
 ],
 "metadata": {
  "kernelspec": {
   "display_name": "Python 3",
   "language": "python",
   "name": "python3"
  },
  "language_info": {
   "codemirror_mode": {
    "name": "ipython",
    "version": 3
   },
   "file_extension": ".py",
   "mimetype": "text/x-python",
   "name": "python",
   "nbconvert_exporter": "python",
   "pygments_lexer": "ipython3",
   "version": "3.7.7"
  }
 },
 "nbformat": 4,
 "nbformat_minor": 4
}
